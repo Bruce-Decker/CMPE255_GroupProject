{
 "cells": [
  {
   "cell_type": "code",
   "execution_count": 1,
   "metadata": {},
   "outputs": [
    {
     "name": "stdout",
     "output_type": "stream",
     "text": [
      "[nltk_data] Downloading package punkt to\n",
      "[nltk_data]     /Users/brucedecker/nltk_data...\n",
      "[nltk_data]   Package punkt is already up-to-date!\n",
      "[nltk_data] Downloading package stopwords to\n",
      "[nltk_data]     /Users/brucedecker/nltk_data...\n",
      "[nltk_data]   Package stopwords is already up-to-date!\n"
     ]
    }
   ],
   "source": [
    "import pandas as pd\n",
    "import numpy as np\n",
    "import sklearn\n",
    "import matplotlib.pyplot as plt\n",
    "import re \n",
    "import nltk\n",
    "from nltk.corpus import stopwords\n",
    "from nltk.stem import SnowballStemmer\n",
    "nltk.download('punkt')\n",
    "nltk.download('stopwords')\n",
    "words = stopwords.words(\"english\")\n",
    "stemmer = SnowballStemmer('english')\n",
    "from sklearn.feature_extraction.text import TfidfVectorizer\n",
    "from sklearn.feature_selection import SelectKBest, chi2, SelectPercentile\n",
    "from sklearn.model_selection import train_test_split\n",
    "from sklearn.preprocessing import Imputer\n",
    "\n"
   ]
  },
  {
   "cell_type": "code",
   "execution_count": 2,
   "metadata": {},
   "outputs": [],
   "source": [
    "stopwords_set = set(stopwords.words(\"english\"))\n",
    "df = pd.read_csv('1429_1.csv', keep_default_na=False, skip_blank_lines=False)\n",
    "df = df.replace(np.nan, '', regex=True)\n",
    "\n"
   ]
  },
  {
   "cell_type": "code",
   "execution_count": 3,
   "metadata": {},
   "outputs": [],
   "source": [
    "df['newComments'] = df[['reviews.text', 'reviews.title']].apply(lambda x: ' '.join(x), axis=1)\n",
    "df['newComments'] = df['reviews.text'].apply(lambda x: \" \".join([stemmer.stem(i) for i in re.sub(\"[^a-zA-Z]\", \" \", x).split() if i not in stopwords_set]).lower())\n",
    "TVec = TfidfVectorizer(sublinear_tf=True, min_df=6, stop_words='english')\n",
    "ch2 = SelectPercentile(chi2, percentile=9.5)\n",
    "X_text_processing = TVec.fit_transform(df['newComments'])\n",
    "\n",
    "#df['reviews.rating'].astype(str).astype(int).astype(float)\n",
    "#df['reviews.rating'].convert_objects(convert_numeric=True)\n",
    "df['reviews.rating'] = pd.to_numeric(df['reviews.rating'],errors='coerce')\n",
    "\n",
    "imp = Imputer(missing_values='NaN', strategy='mean', axis=0)\n",
    "imp.fit(df[['reviews.rating']])\n",
    "df['reviews.rating']=imp.transform(df[['reviews.rating']]).ravel()\n",
    "'''\n",
    "imputed_DF = pd.DataFrame(imp.fit_transform(df.loc[:, 14]))\n",
    "imputed_DF.columns = df.columns\n",
    "imputed_DF.index = df.index\n",
    "'''\n",
    "y_text_processing = df['reviews.rating'].astype(np.int64)"
   ]
  },
  {
   "cell_type": "code",
   "execution_count": 4,
   "metadata": {},
   "outputs": [
    {
     "data": {
      "text/plain": [
       "0        this product far disappoint my children love u...\n",
       "1           great beginn experienc person bought gift love\n",
       "2        inexpens tablet use learn step nabi he thrill ...\n",
       "3        i fire hd two week i love this tablet great va...\n",
       "4        i bought grand daughter come visit i set user ...\n",
       "5        this amazon fire inch tablet perfect size i pu...\n",
       "6        great e read go nice light weight price point ...\n",
       "7        i gave christma gift inlaw husband uncl they l...\n",
       "8        great devic read book i like link borrow libra...\n",
       "9                            i love order book read reader\n",
       "10                         not easi elder user ceas ad pop\n",
       "11       excel product easi use larg screen make watch ...\n",
       "12       want father first tablet good valu he watch mo...\n",
       "13       simpli everyth i need thank youand silk work w...\n",
       "14                            got present love size screen\n",
       "15       the kindl easiest use graphic screen crisp cle...\n",
       "16       nice reader almost perfect want need good bargain\n",
       "17       i realli like tablet i would given star someti...\n",
       "18        great video qualiti lot fun app fun whole famili\n",
       "19       love love love kindl fire yr old granddaught s...\n",
       "20       excel tablet nice screen i wish amazon would p...\n",
       "21       preload read app kindl expand app perfect trav...\n",
       "22       veri happi product easi use pictur clear take ...\n",
       "23       my grandchildren home school util tabl mani le...\n",
       "24       great size easi carri travel need spend time l...\n",
       "25       i purchas last tablet die it meet basic need p...\n",
       "26       perfect download read book perfect size nice b...\n",
       "27       i surpris i learn capabl devic now husband acc...\n",
       "28                         i got son it user friend durabl\n",
       "29       the visual qualiti fire hd amaz it run fast ea...\n",
       "                               ...                        \n",
       "34631    this cover made kindl dx fit beauti the proble...\n",
       "34632    i sever cover simpl rubber cover expand packag...\n",
       "34633    the reason peopl give star give product enough...\n",
       "34634    this cover must kindl read devic i purchas dif...\n",
       "34635    i cover black cover inde fold back not sure re...\n",
       "34636    i found cover quit handsom appear everyon see ...\n",
       "34637    i well kindl lover notic although taken great ...\n",
       "34638    this cover replac initi cover broke kindl fram...\n",
       "34639    have recent receiv kindl fire hd gift i knew h...\n",
       "34640    surpass expect charg faster one come kindl fir...\n",
       "34641    amazon alreadi includ cabl kindl fire kindl fi...\n",
       "34642    i bought play kindl long period time play char...\n",
       "34643    this cord work great i also love longer origin...\n",
       "34644    correct problem kindl charg hope i need kindl ...\n",
       "34645    work well kindl model either comput cord charg...\n",
       "34646    i use one time download e book it work exact s...\n",
       "34647    excel charg qualiti heavi duti cord doe work k...\n",
       "34648    this charger w rapid charger describ it work w...\n",
       "34649                                  expect i want thank\n",
       "34650    although descript state work kindl fire hdx i ...\n",
       "34651                                         connect snug\n",
       "34652    so i alreadi pleas amazon choic includ essenti...\n",
       "34653    as charger work noth special with mk kindl fir...\n",
       "34654    this exact like usb power charger make unneces...\n",
       "34655    this appreci faster higher amp charger use kin...\n",
       "34656    amazon includ charger kindl the fact charg us ...\n",
       "34657    love kindl fire i realli disappoint kindl powe...\n",
       "34658    i surpris find come type charg cord i purchas ...\n",
       "34659    spite fact noth good thing say amazon anth eve...\n",
       "34660                                                     \n",
       "Name: newComments, Length: 34661, dtype: object"
      ]
     },
     "execution_count": 4,
     "metadata": {},
     "output_type": "execute_result"
    }
   ],
   "source": [
    "df['newComments']"
   ]
  },
  {
   "cell_type": "code",
   "execution_count": 5,
   "metadata": {},
   "outputs": [],
   "source": [
    "from pyspark.mllib.regression import LabeledPoint\n",
    "from pyspark.sql import SQLContext\n",
    "from pyspark.sql import SparkSession\n",
    "from pyspark import SparkContext\n",
    "from pyspark.sql.functions import col\n"
   ]
  },
  {
   "cell_type": "code",
   "execution_count": 6,
   "metadata": {},
   "outputs": [],
   "source": [
    "sc = SparkContext.getOrCreate()\n",
    "sqlContext = SQLContext(sc)\n",
    "#spark= SparkSession.builder.getOrCreate()\n",
    "spark = SparkSession \\\n",
    "  .builder \\\n",
    "  .appName(\"Python Spark SQL basic example\") \\\n",
    "  .config(\"spark.memory.fraction\", 0.80) \\\n",
    "  .config(\"spark.executor.memory\", \"4g\") \\\n",
    "  .config(\"spark.driver.memory\", \"4g\")\\\n",
    "  .config(\"spark.sql.shuffle.partitions\" , \"900\") \\\n",
    "  .getOrCreate()"
   ]
  },
  {
   "cell_type": "code",
   "execution_count": 7,
   "metadata": {},
   "outputs": [
    {
     "name": "stdout",
     "output_type": "stream",
     "text": [
      "+--------------------+--------------+--------------------+--------------------+-------------------+\n",
      "|                  id|reviews.rating|                name|         newComments|reviews.doRecommend|\n",
      "+--------------------+--------------+--------------------+--------------------+-------------------+\n",
      "|AVqkIhwDv8e3D1O-lebb|           5.0|All-New Fire HD 8...|this product far ...|               TRUE|\n",
      "|AVqkIhwDv8e3D1O-lebb|           5.0|All-New Fire HD 8...|great beginn expe...|               TRUE|\n",
      "|AVqkIhwDv8e3D1O-lebb|           5.0|All-New Fire HD 8...|inexpens tablet u...|               TRUE|\n",
      "|AVqkIhwDv8e3D1O-lebb|           4.0|All-New Fire HD 8...|i fire hd two wee...|               TRUE|\n",
      "|AVqkIhwDv8e3D1O-lebb|           5.0|All-New Fire HD 8...|i bought grand da...|               TRUE|\n",
      "+--------------------+--------------+--------------------+--------------------+-------------------+\n",
      "only showing top 5 rows\n",
      "\n",
      "(34661, 5)\n",
      "+-----------------+-----+\n",
      "|   reviews.rating|count|\n",
      "+-----------------+-----+\n",
      "|              5.0|23775|\n",
      "|              4.0| 8541|\n",
      "|              3.0| 1499|\n",
      "|              1.0|  410|\n",
      "|              2.0|  402|\n",
      "|4.584572732260953|   34|\n",
      "+-----------------+-----+\n",
      "\n",
      "+-------------------+-----+\n",
      "|reviews.doRecommend|count|\n",
      "+-------------------+-----+\n",
      "|               TRUE|32682|\n",
      "|              FALSE| 1384|\n",
      "|                   |  595|\n",
      "+-------------------+-----+\n",
      "\n"
     ]
    }
   ],
   "source": [
    "data = spark.createDataFrame(df)\n",
    "data = data.select('id', '`reviews.rating`', 'name', 'newComments', \"`reviews.doRecommend`\")\n",
    "data.show(5)\n",
    "print((data.count(), len(data.columns)))\n",
    "\n",
    "\n",
    "\n",
    "data.groupBy(\"`reviews.rating`\") \\\n",
    "    .count() \\\n",
    "    .orderBy(col(\"count\").desc()) \\\n",
    "    .show()\n",
    "\n",
    "data.groupBy(\"`reviews.doRecommend`\") \\\n",
    "    .count() \\\n",
    "    .orderBy(col(\"count\").desc()) \\\n",
    "    .show()"
   ]
  },
  {
   "cell_type": "code",
   "execution_count": 8,
   "metadata": {},
   "outputs": [
    {
     "name": "stderr",
     "output_type": "stream",
     "text": [
      "/anaconda3/lib/python3.6/site-packages/h5py/__init__.py:36: FutureWarning: Conversion of the second argument of issubdtype from `float` to `np.floating` is deprecated. In future, it will be treated as `np.float64 == np.dtype(float).type`.\n",
      "  from ._conv import register_converters as _register_converters\n",
      "Using TensorFlow backend.\n"
     ]
    },
    {
     "name": "stdout",
     "output_type": "stream",
     "text": [
      "_________________________________________________________________\n",
      "Layer (type)                 Output Shape              Param #   \n",
      "=================================================================\n",
      "dense_1 (Dense)              (None, 600)               1492800   \n",
      "_________________________________________________________________\n",
      "dense_2 (Dense)              (None, 1)                 601       \n",
      "=================================================================\n",
      "Total params: 1,493,401\n",
      "Trainable params: 1,493,401\n",
      "Non-trainable params: 0\n",
      "_________________________________________________________________\n",
      "Train on 27608 samples, validate on 120 samples\n",
      "Epoch 1/15\n",
      "27608/27608 [==============================] - 6s 206us/step - loss: 0.1946 - acc: 0.9422 - val_loss: 0.2134 - val_acc: 0.9417\n",
      "Epoch 2/15\n",
      "27608/27608 [==============================] - 5s 182us/step - loss: 0.1448 - acc: 0.9507 - val_loss: 0.2153 - val_acc: 0.9333\n",
      "Epoch 3/15\n",
      "27608/27608 [==============================] - 6s 201us/step - loss: 0.1370 - acc: 0.9528 - val_loss: 0.2188 - val_acc: 0.9333\n",
      "Epoch 4/15\n",
      "27608/27608 [==============================] - 5s 198us/step - loss: 0.1317 - acc: 0.9545 - val_loss: 0.2372 - val_acc: 0.9333\n",
      "Epoch 5/15\n",
      "27608/27608 [==============================] - 5s 197us/step - loss: 0.1279 - acc: 0.9554 - val_loss: 0.2399 - val_acc: 0.9333\n",
      "Epoch 6/15\n",
      "27608/27608 [==============================] - 5s 185us/step - loss: 0.1252 - acc: 0.9567 - val_loss: 0.2456 - val_acc: 0.9333\n",
      "Epoch 7/15\n",
      "27608/27608 [==============================] - 6s 200us/step - loss: 0.1225 - acc: 0.9579 - val_loss: 0.2448 - val_acc: 0.9333\n",
      "Epoch 8/15\n",
      "27608/27608 [==============================] - 6s 204us/step - loss: 0.1204 - acc: 0.9582 - val_loss: 0.2641 - val_acc: 0.9333\n",
      "Epoch 9/15\n",
      "27608/27608 [==============================] - 6s 201us/step - loss: 0.1183 - acc: 0.9593 - val_loss: 0.2694 - val_acc: 0.9250\n",
      "Epoch 10/15\n",
      "27608/27608 [==============================] - 6s 202us/step - loss: 0.1174 - acc: 0.9596 - val_loss: 0.2794 - val_acc: 0.9250\n",
      "Epoch 11/15\n",
      "27608/27608 [==============================] - 6s 204us/step - loss: 0.1155 - acc: 0.9598 - val_loss: 0.2805 - val_acc: 0.9333\n",
      "Epoch 12/15\n",
      "27608/27608 [==============================] - 5s 199us/step - loss: 0.1144 - acc: 0.9611 - val_loss: 0.2931 - val_acc: 0.9250\n",
      "Epoch 13/15\n",
      "27608/27608 [==============================] - 5s 198us/step - loss: 0.1132 - acc: 0.9608 - val_loss: 0.2990 - val_acc: 0.9333\n",
      "Epoch 14/15\n",
      "27608/27608 [==============================] - 6s 202us/step - loss: 0.1115 - acc: 0.9618 - val_loss: 0.2800 - val_acc: 0.9250\n",
      "Epoch 15/15\n",
      "27608/27608 [==============================] - 6s 201us/step - loss: 0.1116 - acc: 0.9613 - val_loss: 0.2764 - val_acc: 0.9333\n",
      "6933/6933 [==============================] - 1s 89us/step\n",
      "Accuracy: 0.9479301889599892\n"
     ]
    }
   ],
   "source": [
    "from keras.models import Sequential\n",
    "from keras.layers import Dense, Activation\n",
    "from sklearn.feature_extraction.text import CountVectorizer\n",
    "from sklearn.preprocessing import LabelEncoder, OneHotEncoder\n",
    "from numpy import array\n",
    "vect = CountVectorizer(binary=True, stop_words=stopwords.words('english'), lowercase=True, min_df=6,  max_features=5000)\n",
    "label_encoder_y = LabelEncoder()\n",
    "y_recommended = df['reviews.doRecommend']\n",
    "\n",
    "\n",
    "#df['reviews.doRecommend'].eq('TRUE').mul(1)\n",
    "df['reviews.doRecommend'] = df['reviews.doRecommend'].apply(lambda x: 1 if x == \"TRUE\" else x)\n",
    "df['reviews.doRecommend'] = df['reviews.doRecommend'].apply(lambda x: 0 if x == \"FALSE\" else x)\n",
    "df['reviews.doRecommend'] = df['reviews.doRecommend'].replace(np.nan, '', regex=True)\n",
    "df['reviews.doRecommend'] = df['reviews.doRecommend'].apply(lambda x: 0 if x == '' else x)\n",
    "\n",
    "#print(onehot_encoded)\n",
    "y_keras = df['reviews.doRecommend']\n",
    "\n",
    "\n",
    "X_train_kera, X_test_kera, y_train_kera, y_test_kera = train_test_split(df['newComments'], y_keras, test_size=0.2)\n",
    "X_train_onehot = vect.fit_transform(X_train_kera)\n",
    "\n",
    "\n",
    "model = Sequential()\n",
    "model.add(Dense(units=600, activation='linear', input_dim=len(vect.get_feature_names())))\n",
    "model.add(Dense(units=1, activation='sigmoid'))\n",
    "\n",
    "model.compile(loss='binary_crossentropy', optimizer='adadelta', metrics=['accuracy'])\n",
    "model.summary()\n",
    "\n",
    "graph_kera = model.fit(X_train_onehot[:-120], y_train_kera[:-120], \n",
    "          epochs=15, batch_size=148, verbose=1, \n",
    "          validation_data=(X_train_onehot[-120:], y_train_kera[-120:]))\n",
    "\n",
    "loss, acc = model.evaluate(vect.transform(X_test_kera), y_test_kera, verbose=1)\n",
    "print(\"Accuracy:\", acc) \n",
    "\n"
   ]
  },
  {
   "cell_type": "code",
   "execution_count": 9,
   "metadata": {},
   "outputs": [],
   "source": [
    "acc = graph_kera.history['acc']\n",
    "val_acc = graph_kera.history['val_acc']\n",
    "loss = graph_kera.history['loss']\n",
    "val_loss = graph_kera.history['val_loss']"
   ]
  },
  {
   "cell_type": "code",
   "execution_count": 10,
   "metadata": {},
   "outputs": [
    {
     "data": {
      "text/plain": [
       "<matplotlib.legend.Legend at 0x1a262a77b8>"
      ]
     },
     "execution_count": 10,
     "metadata": {},
     "output_type": "execute_result"
    },
    {
     "data": {
      "image/png": "[encoded data removed]",
      "text/plain": [
       "<Figure size 432x288 with 1 Axes>"
      ]
     },
     "metadata": {},
     "output_type": "display_data"
    }
   ],
   "source": [
    "plt.plot(acc, 'r', label='Training Accuracy')\n",
    "plt.plot(val_acc, 'b', label='Validation Accuracy')\n",
    "#plt.plot(loss, 'b', label='Training loss')\n",
    "plt.ylabel('Accuracy')\n",
    "plt.xlabel('Epoch') \n",
    "plt.legend()\n"
   ]
  },
  {
   "cell_type": "code",
   "execution_count": 11,
   "metadata": {},
   "outputs": [
    {
     "data": {
      "text/plain": [
       "<matplotlib.legend.Legend at 0x1a28d18940>"
      ]
     },
     "execution_count": 11,
     "metadata": {},
     "output_type": "execute_result"
    },
    {
     "data": {
      "image/png": "[encoded data removed]",
      "text/plain": [
       "<Figure size 432x288 with 1 Axes>"
      ]
     },
     "metadata": {},
     "output_type": "display_data"
    }
   ],
   "source": [
    "plt.plot(loss, 'r', label='Training Loss')\n",
    "plt.plot(val_loss, 'b', label='Validation Loss')\n",
    "#plt.plot(loss, 'b', label='Training loss')\n",
    "plt.ylabel('Accuracy')\n",
    "plt.xlabel('Epoch') \n",
    "plt.legend()\n",
    "\n"
   ]
  },
  {
   "cell_type": "code",
   "execution_count": 12,
   "metadata": {},
   "outputs": [
    {
     "data": {
      "text/plain": [
       "0        1\n",
       "1        1\n",
       "2        1\n",
       "3        1\n",
       "4        1\n",
       "5        1\n",
       "6        1\n",
       "7        1\n",
       "8        1\n",
       "9        1\n",
       "10       1\n",
       "11       1\n",
       "12       1\n",
       "13       1\n",
       "14       1\n",
       "15       1\n",
       "16       1\n",
       "17       1\n",
       "18       1\n",
       "19       1\n",
       "20       1\n",
       "21       1\n",
       "22       1\n",
       "23       1\n",
       "24       1\n",
       "25       1\n",
       "26       1\n",
       "27       1\n",
       "28       1\n",
       "29       1\n",
       "        ..\n",
       "34631    0\n",
       "34632    0\n",
       "34633    0\n",
       "34634    0\n",
       "34635    0\n",
       "34636    0\n",
       "34637    0\n",
       "34638    0\n",
       "34639    0\n",
       "34640    0\n",
       "34641    0\n",
       "34642    0\n",
       "34643    0\n",
       "34644    0\n",
       "34645    0\n",
       "34646    0\n",
       "34647    0\n",
       "34648    0\n",
       "34649    0\n",
       "34650    0\n",
       "34651    0\n",
       "34652    0\n",
       "34653    0\n",
       "34654    0\n",
       "34655    0\n",
       "34656    0\n",
       "34657    0\n",
       "34658    0\n",
       "34659    0\n",
       "34660    0\n",
       "Name: reviews.doRecommend, Length: 34661, dtype: int64"
      ]
     },
     "execution_count": 12,
     "metadata": {},
     "output_type": "execute_result"
    }
   ],
   "source": [
    "df['reviews.doRecommend']"
   ]
  },
  {
   "cell_type": "code",
   "execution_count": 13,
   "metadata": {},
   "outputs": [],
   "source": [
    "data = spark.createDataFrame(df)"
   ]
  },
  {
   "cell_type": "code",
   "execution_count": 14,
   "metadata": {},
   "outputs": [
    {
     "name": "stdout",
     "output_type": "stream",
     "text": [
      "root\n",
      " |-- id: string (nullable = true)\n",
      " |-- reviews.rating: double (nullable = true)\n",
      " |-- name: string (nullable = true)\n",
      " |-- newComments: string (nullable = true)\n",
      " |-- reviews.doRecommend: long (nullable = true)\n",
      "\n",
      "+--------------------+--------------+--------------------+--------------------+-------------------+\n",
      "|                  id|reviews.rating|                name|         newComments|reviews.doRecommend|\n",
      "+--------------------+--------------+--------------------+--------------------+-------------------+\n",
      "|AVqkIhwDv8e3D1O-lebb|           5.0|All-New Fire HD 8...|this product far ...|                  1|\n",
      "|AVqkIhwDv8e3D1O-lebb|           5.0|All-New Fire HD 8...|great beginn expe...|                  1|\n",
      "|AVqkIhwDv8e3D1O-lebb|           5.0|All-New Fire HD 8...|inexpens tablet u...|                  1|\n",
      "|AVqkIhwDv8e3D1O-lebb|           4.0|All-New Fire HD 8...|i fire hd two wee...|                  1|\n",
      "|AVqkIhwDv8e3D1O-lebb|           5.0|All-New Fire HD 8...|i bought grand da...|                  1|\n",
      "+--------------------+--------------+--------------------+--------------------+-------------------+\n",
      "only showing top 5 rows\n",
      "\n"
     ]
    }
   ],
   "source": [
    "data = data.select('id', '`reviews.rating`', 'name', 'newComments', \"`reviews.doRecommend`\")\n",
    "data.printSchema()\n",
    "data.show(5)"
   ]
  },
  {
   "cell_type": "code",
   "execution_count": 15,
   "metadata": {},
   "outputs": [
    {
     "name": "stdout",
     "output_type": "stream",
     "text": [
      "+-------------------+-----+\n",
      "|reviews.doRecommend|count|\n",
      "+-------------------+-----+\n",
      "|                  1|32682|\n",
      "|                  0| 1979|\n",
      "+-------------------+-----+\n",
      "\n"
     ]
    }
   ],
   "source": [
    "data.groupBy(\"`reviews.doRecommend`\") \\\n",
    "    .count() \\\n",
    "    .orderBy(col(\"count\").desc()) \\\n",
    "    .show()\n",
    "    "
   ]
  },
  {
   "cell_type": "code",
   "execution_count": 16,
   "metadata": {},
   "outputs": [],
   "source": [
    "label_encoder = LabelEncoder()"
   ]
  },
  {
   "cell_type": "code",
   "execution_count": 17,
   "metadata": {},
   "outputs": [],
   "source": [
    "product_name = df['name']"
   ]
  },
  {
   "cell_type": "code",
   "execution_count": 18,
   "metadata": {},
   "outputs": [
    {
     "name": "stdout",
     "output_type": "stream",
     "text": [
      "+--------------------+-----+\n",
      "|                name|count|\n",
      "+--------------------+-----+\n",
      "|Fire Tablet, 7 Di...|10966|\n",
      "|                    | 6760|\n",
      "|Echo (White),,,\r\n",
      "...| 3309|\n",
      "|Amazon Kindle Pap...| 3176|\n",
      "|All-New Fire HD 8...| 2814|\n",
      "|Amazon Fire Tv,,,...| 2527|\n",
      "|Fire Kids Edition...| 1685|\n",
      "|Brand New Amazon ...| 1038|\n",
      "|Kindle Voyage E-r...|  580|\n",
      "|Fire Tablet, 7 Di...|  372|\n",
      "|Amazon - Amazon T...|  318|\n",
      "|All-New Kindle E-...|  212|\n",
      "|Amazon 5W USB Off...|  208|\n",
      "|All-New Fire HD 8...|  158|\n",
      "|Amazon Fire Hd 8 ...|  135|\n",
      "|Amazon Fire Hd 10...|  128|\n",
      "|Kindle Oasis E-re...|   67|\n",
      "|Amazon 9W PowerFa...|   36|\n",
      "|Kindle Paperwhite...|   30|\n",
      "|Amazon - Kindle V...|   25|\n",
      "+--------------------+-----+\n",
      "only showing top 20 rows\n",
      "\n"
     ]
    }
   ],
   "source": [
    "data.groupBy(\"name\") \\\n",
    "    .count() \\\n",
    "    .orderBy(col(\"count\").desc()) \\\n",
    "    .show()\n",
    "    "
   ]
  },
  {
   "cell_type": "code",
   "execution_count": 19,
   "metadata": {},
   "outputs": [],
   "source": [
    "from sklearn_pandas import CategoricalImputer"
   ]
  },
  {
   "cell_type": "code",
   "execution_count": 20,
   "metadata": {},
   "outputs": [],
   "source": [
    "categorical_imputer = CategoricalImputer()"
   ]
  },
  {
   "cell_type": "code",
   "execution_count": 109,
   "metadata": {},
   "outputs": [
    {
     "data": {
      "text/plain": [
       "0        All-New Fire HD 8 Tablet, 8 HD Display, Wi-Fi,...\n",
       "1        All-New Fire HD 8 Tablet, 8 HD Display, Wi-Fi,...\n",
       "2        All-New Fire HD 8 Tablet, 8 HD Display, Wi-Fi,...\n",
       "3        All-New Fire HD 8 Tablet, 8 HD Display, Wi-Fi,...\n",
       "4        All-New Fire HD 8 Tablet, 8 HD Display, Wi-Fi,...\n",
       "5        All-New Fire HD 8 Tablet, 8 HD Display, Wi-Fi,...\n",
       "6        All-New Fire HD 8 Tablet, 8 HD Display, Wi-Fi,...\n",
       "7        All-New Fire HD 8 Tablet, 8 HD Display, Wi-Fi,...\n",
       "8        All-New Fire HD 8 Tablet, 8 HD Display, Wi-Fi,...\n",
       "9        All-New Fire HD 8 Tablet, 8 HD Display, Wi-Fi,...\n",
       "10       All-New Fire HD 8 Tablet, 8 HD Display, Wi-Fi,...\n",
       "11       All-New Fire HD 8 Tablet, 8 HD Display, Wi-Fi,...\n",
       "12       All-New Fire HD 8 Tablet, 8 HD Display, Wi-Fi,...\n",
       "13       All-New Fire HD 8 Tablet, 8 HD Display, Wi-Fi,...\n",
       "14       All-New Fire HD 8 Tablet, 8 HD Display, Wi-Fi,...\n",
       "15       All-New Fire HD 8 Tablet, 8 HD Display, Wi-Fi,...\n",
       "16       All-New Fire HD 8 Tablet, 8 HD Display, Wi-Fi,...\n",
       "17       All-New Fire HD 8 Tablet, 8 HD Display, Wi-Fi,...\n",
       "18       All-New Fire HD 8 Tablet, 8 HD Display, Wi-Fi,...\n",
       "19       All-New Fire HD 8 Tablet, 8 HD Display, Wi-Fi,...\n",
       "20       All-New Fire HD 8 Tablet, 8 HD Display, Wi-Fi,...\n",
       "21       All-New Fire HD 8 Tablet, 8 HD Display, Wi-Fi,...\n",
       "22       All-New Fire HD 8 Tablet, 8 HD Display, Wi-Fi,...\n",
       "23       All-New Fire HD 8 Tablet, 8 HD Display, Wi-Fi,...\n",
       "24       All-New Fire HD 8 Tablet, 8 HD Display, Wi-Fi,...\n",
       "25       All-New Fire HD 8 Tablet, 8 HD Display, Wi-Fi,...\n",
       "26       All-New Fire HD 8 Tablet, 8 HD Display, Wi-Fi,...\n",
       "27       All-New Fire HD 8 Tablet, 8 HD Display, Wi-Fi,...\n",
       "28       All-New Fire HD 8 Tablet, 8 HD Display, Wi-Fi,...\n",
       "29       All-New Fire HD 8 Tablet, 8 HD Display, Wi-Fi,...\n",
       "                               ...                        \n",
       "34630                                                  NaN\n",
       "34631                                                  NaN\n",
       "34632                                                  NaN\n",
       "34633                                                  NaN\n",
       "34634                                                  NaN\n",
       "34635                                                  NaN\n",
       "34636                                                  NaN\n",
       "34637                                                  NaN\n",
       "34638                                                  NaN\n",
       "34639                                                  NaN\n",
       "34640                                                  NaN\n",
       "34641                                                  NaN\n",
       "34642                                                  NaN\n",
       "34643                                                  NaN\n",
       "34644                                                  NaN\n",
       "34645                                                  NaN\n",
       "34646                                                  NaN\n",
       "34647                                                  NaN\n",
       "34648                                                  NaN\n",
       "34649                                                  NaN\n",
       "34650                                                  NaN\n",
       "34651                                                  NaN\n",
       "34652                                                  NaN\n",
       "34653                                                  NaN\n",
       "34654                                                  NaN\n",
       "34655                                                  NaN\n",
       "34656                                                  NaN\n",
       "34657                                                  NaN\n",
       "34658                                                  NaN\n",
       "34659                                                  NaN\n",
       "Name: name, Length: 34660, dtype: object"
      ]
     },
     "execution_count": 109,
     "metadata": {},
     "output_type": "execute_result"
    }
   ],
   "source": [
    "df['name'] = df['name'].replace('',np.nan, regex=True)\n",
    "df['name']"
   ]
  },
  {
   "cell_type": "code",
   "execution_count": 21,
   "metadata": {},
   "outputs": [],
   "source": [
    "df['name'] = categorical_imputer.fit_transform(df['name'])"
   ]
  },
  {
   "cell_type": "code",
   "execution_count": 22,
   "metadata": {},
   "outputs": [
    {
     "data": {
      "text/plain": [
       "0        All-New Fire HD 8 Tablet, 8 HD Display, Wi-Fi,...\n",
       "1        All-New Fire HD 8 Tablet, 8 HD Display, Wi-Fi,...\n",
       "2        All-New Fire HD 8 Tablet, 8 HD Display, Wi-Fi,...\n",
       "3        All-New Fire HD 8 Tablet, 8 HD Display, Wi-Fi,...\n",
       "4        All-New Fire HD 8 Tablet, 8 HD Display, Wi-Fi,...\n",
       "5        All-New Fire HD 8 Tablet, 8 HD Display, Wi-Fi,...\n",
       "6        All-New Fire HD 8 Tablet, 8 HD Display, Wi-Fi,...\n",
       "7        All-New Fire HD 8 Tablet, 8 HD Display, Wi-Fi,...\n",
       "8        All-New Fire HD 8 Tablet, 8 HD Display, Wi-Fi,...\n",
       "9        All-New Fire HD 8 Tablet, 8 HD Display, Wi-Fi,...\n",
       "10       All-New Fire HD 8 Tablet, 8 HD Display, Wi-Fi,...\n",
       "11       All-New Fire HD 8 Tablet, 8 HD Display, Wi-Fi,...\n",
       "12       All-New Fire HD 8 Tablet, 8 HD Display, Wi-Fi,...\n",
       "13       All-New Fire HD 8 Tablet, 8 HD Display, Wi-Fi,...\n",
       "14       All-New Fire HD 8 Tablet, 8 HD Display, Wi-Fi,...\n",
       "15       All-New Fire HD 8 Tablet, 8 HD Display, Wi-Fi,...\n",
       "16       All-New Fire HD 8 Tablet, 8 HD Display, Wi-Fi,...\n",
       "17       All-New Fire HD 8 Tablet, 8 HD Display, Wi-Fi,...\n",
       "18       All-New Fire HD 8 Tablet, 8 HD Display, Wi-Fi,...\n",
       "19       All-New Fire HD 8 Tablet, 8 HD Display, Wi-Fi,...\n",
       "20       All-New Fire HD 8 Tablet, 8 HD Display, Wi-Fi,...\n",
       "21       All-New Fire HD 8 Tablet, 8 HD Display, Wi-Fi,...\n",
       "22       All-New Fire HD 8 Tablet, 8 HD Display, Wi-Fi,...\n",
       "23       All-New Fire HD 8 Tablet, 8 HD Display, Wi-Fi,...\n",
       "24       All-New Fire HD 8 Tablet, 8 HD Display, Wi-Fi,...\n",
       "25       All-New Fire HD 8 Tablet, 8 HD Display, Wi-Fi,...\n",
       "26       All-New Fire HD 8 Tablet, 8 HD Display, Wi-Fi,...\n",
       "27       All-New Fire HD 8 Tablet, 8 HD Display, Wi-Fi,...\n",
       "28       All-New Fire HD 8 Tablet, 8 HD Display, Wi-Fi,...\n",
       "29       All-New Fire HD 8 Tablet, 8 HD Display, Wi-Fi,...\n",
       "                               ...                        \n",
       "34631                                                     \n",
       "34632                                                     \n",
       "34633                                                     \n",
       "34634                                                     \n",
       "34635                                                     \n",
       "34636                                                     \n",
       "34637                                                     \n",
       "34638                                                     \n",
       "34639                                                     \n",
       "34640                                                     \n",
       "34641                                                     \n",
       "34642                                                     \n",
       "34643                                                     \n",
       "34644                                                     \n",
       "34645                                                     \n",
       "34646                                                     \n",
       "34647                                                     \n",
       "34648                                                     \n",
       "34649                                                     \n",
       "34650                                                     \n",
       "34651                                                     \n",
       "34652                                                     \n",
       "34653                                                     \n",
       "34654                                                     \n",
       "34655                                                     \n",
       "34656                                                     \n",
       "34657                                                     \n",
       "34658                                                     \n",
       "34659                                                     \n",
       "34660                                                 6760\n",
       "Name: name, Length: 34661, dtype: object"
      ]
     },
     "execution_count": 22,
     "metadata": {},
     "output_type": "execute_result"
    }
   ],
   "source": [
    "df['name']"
   ]
  },
  {
   "cell_type": "code",
   "execution_count": 23,
   "metadata": {},
   "outputs": [],
   "source": [
    "integer_encoded_name = label_encoder.fit_transform(df['name'])"
   ]
  },
  {
   "cell_type": "code",
   "execution_count": 24,
   "metadata": {},
   "outputs": [
    {
     "data": {
      "text/plain": [
       "array([2, 2, 2, ..., 0, 0, 1])"
      ]
     },
     "execution_count": 24,
     "metadata": {},
     "output_type": "execute_result"
    }
   ],
   "source": [
    "integer_encoded_name"
   ]
  },
  {
   "cell_type": "code",
   "execution_count": 25,
   "metadata": {},
   "outputs": [],
   "source": [
    "import plotly"
   ]
  },
  {
   "cell_type": "code",
   "execution_count": 26,
   "metadata": {},
   "outputs": [
    {
     "name": "stdout",
     "output_type": "stream",
     "text": [
      "<class 'pyspark.sql.dataframe.DataFrame'>\n"
     ]
    }
   ],
   "source": [
    "print(type(data))"
   ]
  },
  {
   "cell_type": "code",
   "execution_count": 27,
   "metadata": {},
   "outputs": [
    {
     "name": "stdout",
     "output_type": "stream",
     "text": [
      "root\n",
      " |-- id: string (nullable = true)\n",
      " |-- reviews.rating: double (nullable = true)\n",
      " |-- name: string (nullable = true)\n",
      " |-- newComments: string (nullable = true)\n",
      " |-- reviews.doRecommend: long (nullable = true)\n",
      "\n"
     ]
    }
   ],
   "source": [
    "data.printSchema()"
   ]
  },
  {
   "cell_type": "code",
   "execution_count": 28,
   "metadata": {},
   "outputs": [],
   "source": [
    "df['reviews.username'] = categorical_imputer.fit_transform(df['reviews.username'])"
   ]
  },
  {
   "cell_type": "code",
   "execution_count": 29,
   "metadata": {},
   "outputs": [],
   "source": [
    "integer_encoded_userName = label_encoder.fit_transform(df['reviews.username'])"
   ]
  },
  {
   "cell_type": "code",
   "execution_count": 30,
   "metadata": {},
   "outputs": [],
   "source": [
    "from surprise import BaselineOnly\n",
    "from surprise import Dataset\n",
    "from surprise import Reader\n",
    "from surprise.model_selection import cross_validate\n",
    "from surprise import NormalPredictor"
   ]
  },
  {
   "cell_type": "code",
   "execution_count": 31,
   "metadata": {},
   "outputs": [],
   "source": [
    "surprise_frame = pd.DataFrame(columns=['User','Item','Rating'])"
   ]
  },
  {
   "cell_type": "code",
   "execution_count": 32,
   "metadata": {},
   "outputs": [],
   "source": [
    "surprise_frame['User'] = integer_encoded_userName.tolist()\n",
    "surprise_frame['Item'] = integer_encoded_name.tolist()\n",
    "surprise_frame['Rating'] = df['reviews.rating']"
   ]
  },
  {
   "cell_type": "code",
   "execution_count": 33,
   "metadata": {},
   "outputs": [
    {
     "data": {
      "text/html": [
       "<div>\n",
       "<style scoped>\n",
       "    .dataframe tbody tr th:only-of-type {\n",
       "        vertical-align: middle;\n",
       "    }\n",
       "\n",
       "    .dataframe tbody tr th {\n",
       "        vertical-align: top;\n",
       "    }\n",
       "\n",
       "    .dataframe thead th {\n",
       "        text-align: right;\n",
       "    }\n",
       "</style>\n",
       "<table border=\"1\" class=\"dataframe\">\n",
       "  <thead>\n",
       "    <tr style=\"text-align: right;\">\n",
       "      <th></th>\n",
       "      <th>User</th>\n",
       "      <th>Item</th>\n",
       "      <th>Rating</th>\n",
       "    </tr>\n",
       "  </thead>\n",
       "  <tbody>\n",
       "    <tr>\n",
       "      <th>0</th>\n",
       "      <td>551</td>\n",
       "      <td>2</td>\n",
       "      <td>5.000000</td>\n",
       "    </tr>\n",
       "    <tr>\n",
       "      <th>1</th>\n",
       "      <td>26305</td>\n",
       "      <td>2</td>\n",
       "      <td>5.000000</td>\n",
       "    </tr>\n",
       "    <tr>\n",
       "      <th>2</th>\n",
       "      <td>4565</td>\n",
       "      <td>2</td>\n",
       "      <td>5.000000</td>\n",
       "    </tr>\n",
       "    <tr>\n",
       "      <th>3</th>\n",
       "      <td>16218</td>\n",
       "      <td>2</td>\n",
       "      <td>4.000000</td>\n",
       "    </tr>\n",
       "    <tr>\n",
       "      <th>4</th>\n",
       "      <td>21569</td>\n",
       "      <td>2</td>\n",
       "      <td>5.000000</td>\n",
       "    </tr>\n",
       "    <tr>\n",
       "      <th>5</th>\n",
       "      <td>26176</td>\n",
       "      <td>2</td>\n",
       "      <td>5.000000</td>\n",
       "    </tr>\n",
       "    <tr>\n",
       "      <th>6</th>\n",
       "      <td>5270</td>\n",
       "      <td>2</td>\n",
       "      <td>4.000000</td>\n",
       "    </tr>\n",
       "    <tr>\n",
       "      <th>7</th>\n",
       "      <td>9425</td>\n",
       "      <td>2</td>\n",
       "      <td>5.000000</td>\n",
       "    </tr>\n",
       "    <tr>\n",
       "      <th>8</th>\n",
       "      <td>19028</td>\n",
       "      <td>2</td>\n",
       "      <td>5.000000</td>\n",
       "    </tr>\n",
       "    <tr>\n",
       "      <th>9</th>\n",
       "      <td>15280</td>\n",
       "      <td>2</td>\n",
       "      <td>5.000000</td>\n",
       "    </tr>\n",
       "    <tr>\n",
       "      <th>10</th>\n",
       "      <td>26183</td>\n",
       "      <td>2</td>\n",
       "      <td>4.000000</td>\n",
       "    </tr>\n",
       "    <tr>\n",
       "      <th>11</th>\n",
       "      <td>24870</td>\n",
       "      <td>2</td>\n",
       "      <td>5.000000</td>\n",
       "    </tr>\n",
       "    <tr>\n",
       "      <th>12</th>\n",
       "      <td>14940</td>\n",
       "      <td>2</td>\n",
       "      <td>4.000000</td>\n",
       "    </tr>\n",
       "    <tr>\n",
       "      <th>13</th>\n",
       "      <td>18251</td>\n",
       "      <td>2</td>\n",
       "      <td>5.000000</td>\n",
       "    </tr>\n",
       "    <tr>\n",
       "      <th>14</th>\n",
       "      <td>17656</td>\n",
       "      <td>2</td>\n",
       "      <td>5.000000</td>\n",
       "    </tr>\n",
       "    <tr>\n",
       "      <th>15</th>\n",
       "      <td>2801</td>\n",
       "      <td>2</td>\n",
       "      <td>5.000000</td>\n",
       "    </tr>\n",
       "    <tr>\n",
       "      <th>16</th>\n",
       "      <td>10618</td>\n",
       "      <td>2</td>\n",
       "      <td>4.000000</td>\n",
       "    </tr>\n",
       "    <tr>\n",
       "      <th>17</th>\n",
       "      <td>1944</td>\n",
       "      <td>2</td>\n",
       "      <td>4.000000</td>\n",
       "    </tr>\n",
       "    <tr>\n",
       "      <th>18</th>\n",
       "      <td>678</td>\n",
       "      <td>2</td>\n",
       "      <td>5.000000</td>\n",
       "    </tr>\n",
       "    <tr>\n",
       "      <th>19</th>\n",
       "      <td>12824</td>\n",
       "      <td>2</td>\n",
       "      <td>5.000000</td>\n",
       "    </tr>\n",
       "    <tr>\n",
       "      <th>20</th>\n",
       "      <td>16131</td>\n",
       "      <td>2</td>\n",
       "      <td>5.000000</td>\n",
       "    </tr>\n",
       "    <tr>\n",
       "      <th>21</th>\n",
       "      <td>22601</td>\n",
       "      <td>2</td>\n",
       "      <td>5.000000</td>\n",
       "    </tr>\n",
       "    <tr>\n",
       "      <th>22</th>\n",
       "      <td>1574</td>\n",
       "      <td>2</td>\n",
       "      <td>5.000000</td>\n",
       "    </tr>\n",
       "    <tr>\n",
       "      <th>23</th>\n",
       "      <td>10442</td>\n",
       "      <td>2</td>\n",
       "      <td>5.000000</td>\n",
       "    </tr>\n",
       "    <tr>\n",
       "      <th>24</th>\n",
       "      <td>10359</td>\n",
       "      <td>2</td>\n",
       "      <td>5.000000</td>\n",
       "    </tr>\n",
       "    <tr>\n",
       "      <th>25</th>\n",
       "      <td>21277</td>\n",
       "      <td>2</td>\n",
       "      <td>4.000000</td>\n",
       "    </tr>\n",
       "    <tr>\n",
       "      <th>26</th>\n",
       "      <td>4546</td>\n",
       "      <td>2</td>\n",
       "      <td>4.000000</td>\n",
       "    </tr>\n",
       "    <tr>\n",
       "      <th>27</th>\n",
       "      <td>8139</td>\n",
       "      <td>2</td>\n",
       "      <td>5.000000</td>\n",
       "    </tr>\n",
       "    <tr>\n",
       "      <th>28</th>\n",
       "      <td>12891</td>\n",
       "      <td>2</td>\n",
       "      <td>5.000000</td>\n",
       "    </tr>\n",
       "    <tr>\n",
       "      <th>29</th>\n",
       "      <td>1353</td>\n",
       "      <td>2</td>\n",
       "      <td>5.000000</td>\n",
       "    </tr>\n",
       "    <tr>\n",
       "      <th>...</th>\n",
       "      <td>...</td>\n",
       "      <td>...</td>\n",
       "      <td>...</td>\n",
       "    </tr>\n",
       "    <tr>\n",
       "      <th>34631</th>\n",
       "      <td>9330</td>\n",
       "      <td>0</td>\n",
       "      <td>1.000000</td>\n",
       "    </tr>\n",
       "    <tr>\n",
       "      <th>34632</th>\n",
       "      <td>11529</td>\n",
       "      <td>0</td>\n",
       "      <td>5.000000</td>\n",
       "    </tr>\n",
       "    <tr>\n",
       "      <th>34633</th>\n",
       "      <td>731</td>\n",
       "      <td>0</td>\n",
       "      <td>1.000000</td>\n",
       "    </tr>\n",
       "    <tr>\n",
       "      <th>34634</th>\n",
       "      <td>26524</td>\n",
       "      <td>0</td>\n",
       "      <td>5.000000</td>\n",
       "    </tr>\n",
       "    <tr>\n",
       "      <th>34635</th>\n",
       "      <td>4585</td>\n",
       "      <td>0</td>\n",
       "      <td>5.000000</td>\n",
       "    </tr>\n",
       "    <tr>\n",
       "      <th>34636</th>\n",
       "      <td>13209</td>\n",
       "      <td>0</td>\n",
       "      <td>5.000000</td>\n",
       "    </tr>\n",
       "    <tr>\n",
       "      <th>34637</th>\n",
       "      <td>9484</td>\n",
       "      <td>0</td>\n",
       "      <td>1.000000</td>\n",
       "    </tr>\n",
       "    <tr>\n",
       "      <th>34638</th>\n",
       "      <td>10806</td>\n",
       "      <td>0</td>\n",
       "      <td>3.000000</td>\n",
       "    </tr>\n",
       "    <tr>\n",
       "      <th>34639</th>\n",
       "      <td>8963</td>\n",
       "      <td>0</td>\n",
       "      <td>5.000000</td>\n",
       "    </tr>\n",
       "    <tr>\n",
       "      <th>34640</th>\n",
       "      <td>6375</td>\n",
       "      <td>0</td>\n",
       "      <td>5.000000</td>\n",
       "    </tr>\n",
       "    <tr>\n",
       "      <th>34641</th>\n",
       "      <td>7975</td>\n",
       "      <td>0</td>\n",
       "      <td>4.000000</td>\n",
       "    </tr>\n",
       "    <tr>\n",
       "      <th>34642</th>\n",
       "      <td>873</td>\n",
       "      <td>0</td>\n",
       "      <td>5.000000</td>\n",
       "    </tr>\n",
       "    <tr>\n",
       "      <th>34643</th>\n",
       "      <td>16487</td>\n",
       "      <td>0</td>\n",
       "      <td>5.000000</td>\n",
       "    </tr>\n",
       "    <tr>\n",
       "      <th>34644</th>\n",
       "      <td>13941</td>\n",
       "      <td>0</td>\n",
       "      <td>5.000000</td>\n",
       "    </tr>\n",
       "    <tr>\n",
       "      <th>34645</th>\n",
       "      <td>12014</td>\n",
       "      <td>0</td>\n",
       "      <td>5.000000</td>\n",
       "    </tr>\n",
       "    <tr>\n",
       "      <th>34646</th>\n",
       "      <td>17822</td>\n",
       "      <td>0</td>\n",
       "      <td>5.000000</td>\n",
       "    </tr>\n",
       "    <tr>\n",
       "      <th>34647</th>\n",
       "      <td>20692</td>\n",
       "      <td>0</td>\n",
       "      <td>5.000000</td>\n",
       "    </tr>\n",
       "    <tr>\n",
       "      <th>34648</th>\n",
       "      <td>22115</td>\n",
       "      <td>0</td>\n",
       "      <td>5.000000</td>\n",
       "    </tr>\n",
       "    <tr>\n",
       "      <th>34649</th>\n",
       "      <td>24089</td>\n",
       "      <td>0</td>\n",
       "      <td>5.000000</td>\n",
       "    </tr>\n",
       "    <tr>\n",
       "      <th>34650</th>\n",
       "      <td>23251</td>\n",
       "      <td>0</td>\n",
       "      <td>2.000000</td>\n",
       "    </tr>\n",
       "    <tr>\n",
       "      <th>34651</th>\n",
       "      <td>25195</td>\n",
       "      <td>0</td>\n",
       "      <td>5.000000</td>\n",
       "    </tr>\n",
       "    <tr>\n",
       "      <th>34652</th>\n",
       "      <td>7878</td>\n",
       "      <td>0</td>\n",
       "      <td>1.000000</td>\n",
       "    </tr>\n",
       "    <tr>\n",
       "      <th>34653</th>\n",
       "      <td>16072</td>\n",
       "      <td>0</td>\n",
       "      <td>1.000000</td>\n",
       "    </tr>\n",
       "    <tr>\n",
       "      <th>34654</th>\n",
       "      <td>23952</td>\n",
       "      <td>0</td>\n",
       "      <td>1.000000</td>\n",
       "    </tr>\n",
       "    <tr>\n",
       "      <th>34655</th>\n",
       "      <td>10042</td>\n",
       "      <td>0</td>\n",
       "      <td>3.000000</td>\n",
       "    </tr>\n",
       "    <tr>\n",
       "      <th>34656</th>\n",
       "      <td>9011</td>\n",
       "      <td>0</td>\n",
       "      <td>1.000000</td>\n",
       "    </tr>\n",
       "    <tr>\n",
       "      <th>34657</th>\n",
       "      <td>7775</td>\n",
       "      <td>0</td>\n",
       "      <td>1.000000</td>\n",
       "    </tr>\n",
       "    <tr>\n",
       "      <th>34658</th>\n",
       "      <td>9262</td>\n",
       "      <td>0</td>\n",
       "      <td>1.000000</td>\n",
       "    </tr>\n",
       "    <tr>\n",
       "      <th>34659</th>\n",
       "      <td>25293</td>\n",
       "      <td>0</td>\n",
       "      <td>1.000000</td>\n",
       "    </tr>\n",
       "    <tr>\n",
       "      <th>34660</th>\n",
       "      <td>110</td>\n",
       "      <td>1</td>\n",
       "      <td>4.584573</td>\n",
       "    </tr>\n",
       "  </tbody>\n",
       "</table>\n",
       "<p>34661 rows × 3 columns</p>\n",
       "</div>"
      ],
      "text/plain": [
       "        User  Item    Rating\n",
       "0        551     2  5.000000\n",
       "1      26305     2  5.000000\n",
       "2       4565     2  5.000000\n",
       "3      16218     2  4.000000\n",
       "4      21569     2  5.000000\n",
       "5      26176     2  5.000000\n",
       "6       5270     2  4.000000\n",
       "7       9425     2  5.000000\n",
       "8      19028     2  5.000000\n",
       "9      15280     2  5.000000\n",
       "10     26183     2  4.000000\n",
       "11     24870     2  5.000000\n",
       "12     14940     2  4.000000\n",
       "13     18251     2  5.000000\n",
       "14     17656     2  5.000000\n",
       "15      2801     2  5.000000\n",
       "16     10618     2  4.000000\n",
       "17      1944     2  4.000000\n",
       "18       678     2  5.000000\n",
       "19     12824     2  5.000000\n",
       "20     16131     2  5.000000\n",
       "21     22601     2  5.000000\n",
       "22      1574     2  5.000000\n",
       "23     10442     2  5.000000\n",
       "24     10359     2  5.000000\n",
       "25     21277     2  4.000000\n",
       "26      4546     2  4.000000\n",
       "27      8139     2  5.000000\n",
       "28     12891     2  5.000000\n",
       "29      1353     2  5.000000\n",
       "...      ...   ...       ...\n",
       "34631   9330     0  1.000000\n",
       "34632  11529     0  5.000000\n",
       "34633    731     0  1.000000\n",
       "34634  26524     0  5.000000\n",
       "34635   4585     0  5.000000\n",
       "34636  13209     0  5.000000\n",
       "34637   9484     0  1.000000\n",
       "34638  10806     0  3.000000\n",
       "34639   8963     0  5.000000\n",
       "34640   6375     0  5.000000\n",
       "34641   7975     0  4.000000\n",
       "34642    873     0  5.000000\n",
       "34643  16487     0  5.000000\n",
       "34644  13941     0  5.000000\n",
       "34645  12014     0  5.000000\n",
       "34646  17822     0  5.000000\n",
       "34647  20692     0  5.000000\n",
       "34648  22115     0  5.000000\n",
       "34649  24089     0  5.000000\n",
       "34650  23251     0  2.000000\n",
       "34651  25195     0  5.000000\n",
       "34652   7878     0  1.000000\n",
       "34653  16072     0  1.000000\n",
       "34654  23952     0  1.000000\n",
       "34655  10042     0  3.000000\n",
       "34656   9011     0  1.000000\n",
       "34657   7775     0  1.000000\n",
       "34658   9262     0  1.000000\n",
       "34659  25293     0  1.000000\n",
       "34660    110     1  4.584573\n",
       "\n",
       "[34661 rows x 3 columns]"
      ]
     },
     "execution_count": 33,
     "metadata": {},
     "output_type": "execute_result"
    }
   ],
   "source": [
    "surprise_frame"
   ]
  },
  {
   "cell_type": "code",
   "execution_count": 34,
   "metadata": {},
   "outputs": [],
   "source": [
    "reader = Reader(line_format='user item rating',rating_scale=(1, 5))\n",
    "surprise_data = Dataset.load_from_df(surprise_frame[['User', 'Item', 'Rating']], reader)"
   ]
  },
  {
   "cell_type": "code",
   "execution_count": 35,
   "metadata": {},
   "outputs": [
    {
     "data": {
      "text/plain": [
       "<surprise.dataset.DatasetAutoFolds at 0x1a0dc8dd68>"
      ]
     },
     "execution_count": 35,
     "metadata": {},
     "output_type": "execute_result"
    }
   ],
   "source": [
    "surprise_data"
   ]
  },
  {
   "cell_type": "code",
   "execution_count": 36,
   "metadata": {},
   "outputs": [
    {
     "data": {
      "text/plain": [
       "{'test_rmse': array([0.93668575, 0.93550799]),\n",
       " 'test_mae': array([0.66342373, 0.6668794 ]),\n",
       " 'fit_time': (0.023096084594726562, 0.022442102432250977),\n",
       " 'test_time': (0.2488081455230713, 0.10738611221313477)}"
      ]
     },
     "execution_count": 36,
     "metadata": {},
     "output_type": "execute_result"
    }
   ],
   "source": [
    "cross_validate(NormalPredictor(), surprise_data, cv=2)\n"
   ]
  },
  {
   "cell_type": "code",
   "execution_count": 37,
   "metadata": {},
   "outputs": [],
   "source": [
    "from surprise import SVD\n",
    "from surprise import Dataset\n",
    "from surprise import accuracy\n",
    "from surprise.model_selection import KFold\n",
    "from surprise.model_selection import train_test_split"
   ]
  },
  {
   "cell_type": "code",
   "execution_count": 38,
   "metadata": {},
   "outputs": [],
   "source": [
    "surprise_frame.to_csv(\"surprise_frame.csv\", sep=',', encoding='utf-8', index=False)"
   ]
  },
  {
   "cell_type": "code",
   "execution_count": 39,
   "metadata": {},
   "outputs": [],
   "source": [
    "reader2 = Reader(line_format='user item rating', sep = ',', rating_scale=(1, 5), skip_lines=1)\n"
   ]
  },
  {
   "cell_type": "code",
   "execution_count": 40,
   "metadata": {},
   "outputs": [],
   "source": [
    "import os"
   ]
  },
  {
   "cell_type": "code",
   "execution_count": 41,
   "metadata": {},
   "outputs": [],
   "source": [
    "file_path = os.path.expanduser('surprise_frame.csv')"
   ]
  },
  {
   "cell_type": "code",
   "execution_count": 42,
   "metadata": {},
   "outputs": [],
   "source": [
    "surprise_data_2 = Dataset.load_from_file(file_path, reader=reader2)"
   ]
  },
  {
   "cell_type": "code",
   "execution_count": 43,
   "metadata": {},
   "outputs": [
    {
     "data": {
      "text/plain": [
       "<surprise.dataset.DatasetAutoFolds at 0x10487c128>"
      ]
     },
     "execution_count": 43,
     "metadata": {},
     "output_type": "execute_result"
    }
   ],
   "source": [
    "surprise_data_2"
   ]
  },
  {
   "cell_type": "code",
   "execution_count": 44,
   "metadata": {},
   "outputs": [],
   "source": [
    "trainset, testset = train_test_split(surprise_data_2, test_size=.25)"
   ]
  },
  {
   "cell_type": "code",
   "execution_count": 45,
   "metadata": {},
   "outputs": [],
   "source": [
    "algo = SVD()"
   ]
  },
  {
   "cell_type": "code",
   "execution_count": 46,
   "metadata": {},
   "outputs": [
    {
     "name": "stdout",
     "output_type": "stream",
     "text": [
      "RMSE: 0.7263\n"
     ]
    },
    {
     "data": {
      "text/plain": [
       "0.7263341675132193"
      ]
     },
     "execution_count": 46,
     "metadata": {},
     "output_type": "execute_result"
    }
   ],
   "source": [
    "algo.fit(trainset)\n",
    "predictions = algo.test(testset)\n",
    "\n",
    "# Then compute RMSE\n",
    "accuracy.rmse(predictions)\n"
   ]
  },
  {
   "cell_type": "code",
   "execution_count": 47,
   "metadata": {},
   "outputs": [
    {
     "name": "stdout",
     "output_type": "stream",
     "text": [
      "user: 550        item: 0          r_ui = None   est = 4.81   {'was_impossible': False}\n"
     ]
    },
    {
     "data": {
      "text/plain": [
       "Prediction(uid='550', iid='0', r_ui=None, est=4.812575397527908, details={'was_impossible': False})"
      ]
     },
     "execution_count": 47,
     "metadata": {},
     "output_type": "execute_result"
    }
   ],
   "source": [
    "algo.predict(str(550), str(0), verbose=True)"
   ]
  },
  {
   "cell_type": "code",
   "execution_count": 48,
   "metadata": {},
   "outputs": [
    {
     "name": "stdout",
     "output_type": "stream",
     "text": [
      "user: 26304      item: 0          r_ui = None   est = 4.67   {'was_impossible': False}\n"
     ]
    },
    {
     "data": {
      "text/plain": [
       "Prediction(uid='26304', iid='0', r_ui=None, est=4.668521638967083, details={'was_impossible': False})"
      ]
     },
     "execution_count": 48,
     "metadata": {},
     "output_type": "execute_result"
    }
   ],
   "source": [
    "algo.predict(str(26304), str(0), verbose=True)"
   ]
  },
  {
   "cell_type": "code",
   "execution_count": 49,
   "metadata": {},
   "outputs": [
    {
     "name": "stdout",
     "output_type": "stream",
     "text": [
      "user: 4564       item: 0          r_ui = None   est = 4.59   {'was_impossible': False}\n"
     ]
    },
    {
     "data": {
      "text/plain": [
       "Prediction(uid='4564', iid='0', r_ui=None, est=4.592454040137513, details={'was_impossible': False})"
      ]
     },
     "execution_count": 49,
     "metadata": {},
     "output_type": "execute_result"
    }
   ],
   "source": [
    "algo.predict(str(4564), str(0), verbose=True)"
   ]
  },
  {
   "cell_type": "code",
   "execution_count": null,
   "metadata": {},
   "outputs": [],
   "source": []
  }
 ],
 "metadata": {
  "kernelspec": {
   "display_name": "Python 3",
   "language": "python",
   "name": "python3"
  },
  "language_info": {
   "codemirror_mode": {
    "name": "ipython",
    "version": 3
   },
   "file_extension": ".py",
   "mimetype": "text/x-python",
   "name": "python",
   "nbconvert_exporter": "python",
   "pygments_lexer": "ipython3",
   "version": "3.6.5"
  }
 },
 "nbformat": 4,
 "nbformat_minor": 2
}
