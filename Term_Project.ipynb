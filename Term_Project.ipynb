{
 "cells": [
  {
   "cell_type": "code",
   "execution_count": 1,
   "metadata": {},
   "outputs": [
    {
     "name": "stdout",
     "output_type": "stream",
     "text": [
      "[nltk_data] Downloading package punkt to\n",
      "[nltk_data]     C:\\Users\\pishi\\AppData\\Roaming\\nltk_data...\n",
      "[nltk_data]   Package punkt is already up-to-date!\n",
      "[nltk_data] Downloading package stopwords to\n",
      "[nltk_data]     C:\\Users\\pishi\\AppData\\Roaming\\nltk_data...\n",
      "[nltk_data]   Package stopwords is already up-to-date!\n"
     ]
    }
   ],
   "source": [
    "import pandas as pd\n",
    "import numpy as np\n",
    "import sklearn\n",
    "import matplotlib.pyplot as plt\n",
    "import re \n",
    "import nltk\n",
    "from nltk.corpus import stopwords\n",
    "from nltk.stem import SnowballStemmer\n",
    "nltk.download('punkt')\n",
    "nltk.download('stopwords')\n",
    "words = stopwords.words(\"english\")\n",
    "stemmer = SnowballStemmer('english')\n",
    "from sklearn.feature_extraction.text import TfidfVectorizer\n",
    "from sklearn.feature_selection import SelectKBest, chi2, SelectPercentile\n",
    "from sklearn.model_selection import train_test_split\n",
    "from sklearn.preprocessing import Imputer"
   ]
  },
  {
   "cell_type": "code",
   "execution_count": 2,
   "metadata": {},
   "outputs": [
    {
     "name": "stderr",
     "output_type": "stream",
     "text": [
      "C:\\Users\\pishi\\Anaconda3\\lib\\site-packages\\IPython\\core\\interactiveshell.py:2785: DtypeWarning: Columns (14) have mixed types. Specify dtype option on import or set low_memory=False.\n",
      "  interactivity=interactivity, compiler=compiler, result=result)\n"
     ]
    }
   ],
   "source": [
    "stopwords_set = set(stopwords.words(\"english\"))\n",
    "df = pd.read_csv('1429_1.csv', keep_default_na=False, skip_blank_lines=False)\n",
    "df = df.replace(np.nan, '', regex=True)"
   ]
  },
  {
   "cell_type": "code",
   "execution_count": 3,
   "metadata": {},
   "outputs": [],
   "source": [
    "df['newComments'] = df[['reviews.text', 'reviews.title']].apply(lambda x: ' '.join(x), axis=1)\n",
    "df['newComments'] = df['reviews.text'].apply(lambda x: \" \".join([stemmer.stem(i) for i in re.sub(\"[^a-zA-Z]\", \" \", x).split() if i not in stopwords_set]).lower())\n",
    "TVec = TfidfVectorizer(sublinear_tf=True, min_df=6, stop_words='english')\n",
    "ch2 = SelectPercentile(chi2, percentile=9.5)\n",
    "X_text_processing = TVec.fit_transform(df['newComments'])\n",
    "\n",
    "#df['reviews.rating'].astype(str).astype(int).astype(float)\n",
    "#df['reviews.rating'].convert_objects(convert_numeric=True)\n",
    "df['reviews.rating'] = pd.to_numeric(df['reviews.rating'],errors='coerce')\n",
    "\n",
    "imp = Imputer(missing_values='NaN', strategy='mean', axis=0)\n",
    "imp.fit(df[['reviews.rating']])\n",
    "df['reviews.rating']=imp.transform(df[['reviews.rating']]).ravel()\n",
    "'''\n",
    "imputed_DF = pd.DataFrame(imp.fit_transform(df.loc[:, 14]))\n",
    "imputed_DF.columns = df.columns\n",
    "imputed_DF.index = df.index\n",
    "'''\n",
    "y_text_processing = df['reviews.rating'].astype(np.int64)"
   ]
  },
  {
   "cell_type": "code",
   "execution_count": 4,
   "metadata": {},
   "outputs": [
    {
     "data": {
      "text/plain": [
       "0        this product far disappoint my children love u...\n",
       "1           great beginn experienc person bought gift love\n",
       "2        inexpens tablet use learn step nabi he thrill ...\n",
       "3        i fire hd two week i love this tablet great va...\n",
       "4        i bought grand daughter come visit i set user ...\n",
       "5        this amazon fire inch tablet perfect size i pu...\n",
       "6        great e read go nice light weight price point ...\n",
       "7        i gave christma gift inlaw husband uncl they l...\n",
       "8        great devic read book i like link borrow libra...\n",
       "9                            i love order book read reader\n",
       "10                         not easi elder user ceas ad pop\n",
       "11       excel product easi use larg screen make watch ...\n",
       "12       want father first tablet good valu he watch mo...\n",
       "13       simpli everyth i need thank youand silk work w...\n",
       "14                            got present love size screen\n",
       "15       the kindl easiest use graphic screen crisp cle...\n",
       "16       nice reader almost perfect want need good bargain\n",
       "17       i realli like tablet i would given star someti...\n",
       "18        great video qualiti lot fun app fun whole famili\n",
       "19       love love love kindl fire yr old granddaught s...\n",
       "20       excel tablet nice screen i wish amazon would p...\n",
       "21       preload read app kindl expand app perfect trav...\n",
       "22       veri happi product easi use pictur clear take ...\n",
       "23       my grandchildren home school util tabl mani le...\n",
       "24       great size easi carri travel need spend time l...\n",
       "25       i purchas last tablet die it meet basic need p...\n",
       "26       perfect download read book perfect size nice b...\n",
       "27       i surpris i learn capabl devic now husband acc...\n",
       "28                         i got son it user friend durabl\n",
       "29       the visual qualiti fire hd amaz it run fast ea...\n",
       "                               ...                        \n",
       "34630    my new kindl dx graphit came yesterday immedi ...\n",
       "34631    this cover made kindl dx fit beauti the proble...\n",
       "34632    i sever cover simpl rubber cover expand packag...\n",
       "34633    the reason peopl give star give product enough...\n",
       "34634    this cover must kindl read devic i purchas dif...\n",
       "34635    i cover black cover inde fold back not sure re...\n",
       "34636    i found cover quit handsom appear everyon see ...\n",
       "34637    i well kindl lover notic although taken great ...\n",
       "34638    this cover replac initi cover broke kindl fram...\n",
       "34639    have recent receiv kindl fire hd gift i knew h...\n",
       "34640    surpass expect charg faster one come kindl fir...\n",
       "34641    amazon alreadi includ cabl kindl fire kindl fi...\n",
       "34642    i bought play kindl long period time play char...\n",
       "34643    this cord work great i also love longer origin...\n",
       "34644    correct problem kindl charg hope i need kindl ...\n",
       "34645    work well kindl model either comput cord charg...\n",
       "34646    i use one time download e book it work exact s...\n",
       "34647    excel charg qualiti heavi duti cord doe work k...\n",
       "34648    this charger w rapid charger describ it work w...\n",
       "34649                                  expect i want thank\n",
       "34650    although descript state work kindl fire hdx i ...\n",
       "34651                                         connect snug\n",
       "34652    so i alreadi pleas amazon choic includ essenti...\n",
       "34653    as charger work noth special with mk kindl fir...\n",
       "34654    this exact like usb power charger make unneces...\n",
       "34655    this appreci faster higher amp charger use kin...\n",
       "34656    amazon includ charger kindl the fact charg us ...\n",
       "34657    love kindl fire i realli disappoint kindl powe...\n",
       "34658    i surpris find come type charg cord i purchas ...\n",
       "34659    spite fact noth good thing say amazon anth eve...\n",
       "Name: newComments, Length: 34660, dtype: object"
      ]
     },
     "execution_count": 4,
     "metadata": {},
     "output_type": "execute_result"
    }
   ],
   "source": [
    "df['newComments']"
   ]
  },
  {
   "cell_type": "code",
   "execution_count": 5,
   "metadata": {},
   "outputs": [],
   "source": [
    "from sklearn.feature_extraction.text import CountVectorizer\n",
    "from sklearn.preprocessing import LabelEncoder, OneHotEncoder\n",
    "from numpy import array\n",
    "vect = CountVectorizer(binary=True, stop_words=stopwords.words('english'), lowercase=True, min_df=6,  max_features=5000)\n",
    "label_encoder_y = LabelEncoder()\n",
    "y_recommended = df['reviews.doRecommend']\n",
    "\n",
    "\n",
    "#df['reviews.doRecommend'].eq('TRUE').mul(1)\n",
    "df['reviews.doRecommend'] = df['reviews.doRecommend'].apply(lambda x: 1 if x == \"TRUE\" else x)\n",
    "df['reviews.doRecommend'] = df['reviews.doRecommend'].apply(lambda x: 0 if x == \"FALSE\" else x)\n",
    "df['reviews.doRecommend'] = df['reviews.doRecommend'].replace(np.nan, '', regex=True)\n",
    "df['reviews.doRecommend'] = df['reviews.doRecommend'].apply(lambda x: 0 if x == '' else x)\n",
    "\n",
    "#print(onehot_encoded)\n",
    "y_keras = df['reviews.doRecommend']\n",
    "\n",
    "\n",
    "X_train, X_test, y_train, y_test = train_test_split(df['newComments'], y_keras, test_size=0.2)\n",
    "X_train = vect.fit_transform(X_train)\n",
    "X_test = vect.transform(X_test)"
   ]
  },
  {
   "cell_type": "code",
   "execution_count": 6,
   "metadata": {},
   "outputs": [
    {
     "data": {
      "text/plain": [
       "MultinomialNB(alpha=1.0, class_prior=None, fit_prior=True)"
      ]
     },
     "execution_count": 6,
     "metadata": {},
     "output_type": "execute_result"
    }
   ],
   "source": [
    "from sklearn.naive_bayes import MultinomialNB\n",
    "clf = MultinomialNB()\n",
    "clf.fit(X_train, y_train)"
   ]
  },
  {
   "cell_type": "code",
   "execution_count": 7,
   "metadata": {},
   "outputs": [
    {
     "name": "stdout",
     "output_type": "stream",
     "text": [
      "0.9340153113380166\n"
     ]
    }
   ],
   "source": [
    "from sklearn.metrics import f1_score\n",
    "\n",
    "y_pred_MNB = clf.predict(X_test)\n",
    "MNB_f1 = f1_score(y_pred_MNB, y_test, average = 'weighted')\n",
    "print(MNB_f1)"
   ]
  },
  {
   "cell_type": "code",
   "execution_count": 8,
   "metadata": {},
   "outputs": [
    {
     "data": {
      "text/plain": [
       "LinearSVC(C=1.0, class_weight=None, dual=True, fit_intercept=True,\n",
       "     intercept_scaling=1, loss='squared_hinge', max_iter=1000,\n",
       "     multi_class='ovr', penalty='l2', random_state=42, tol=0.0001,\n",
       "     verbose=0)"
      ]
     },
     "execution_count": 8,
     "metadata": {},
     "output_type": "execute_result"
    }
   ],
   "source": [
    "from sklearn.svm import LinearSVC\n",
    "clf2 = LinearSVC(random_state = 42)\n",
    "clf2.fit(X_train, y_train)"
   ]
  },
  {
   "cell_type": "code",
   "execution_count": 9,
   "metadata": {},
   "outputs": [
    {
     "name": "stdout",
     "output_type": "stream",
     "text": [
      "0.9500179500577843\n"
     ]
    }
   ],
   "source": [
    "y_pred_LSVC = clf2.predict(X_test)\n",
    "LSVC_f1 = f1_score(y_pred_LSVC, y_test, average = 'weighted')\n",
    "print(LSVC_f1)"
   ]
  },
  {
   "cell_type": "code",
   "execution_count": 10,
   "metadata": {},
   "outputs": [
    {
     "data": {
      "text/plain": [
       "RandomForestClassifier(bootstrap=True, class_weight=None, criterion='gini',\n",
       "            max_depth=2, max_features='auto', max_leaf_nodes=None,\n",
       "            min_impurity_decrease=0.0, min_impurity_split=None,\n",
       "            min_samples_leaf=1, min_samples_split=2,\n",
       "            min_weight_fraction_leaf=0.0, n_estimators=100, n_jobs=1,\n",
       "            oob_score=False, random_state=42, verbose=0, warm_start=False)"
      ]
     },
     "execution_count": 10,
     "metadata": {},
     "output_type": "execute_result"
    }
   ],
   "source": [
    "from sklearn.ensemble import RandomForestClassifier\n",
    "clf3 = RandomForestClassifier(n_estimators = 100, max_depth = 2, random_state = 42)\n",
    "clf3.fit(X_train, y_train)"
   ]
  },
  {
   "cell_type": "code",
   "execution_count": 11,
   "metadata": {},
   "outputs": [
    {
     "name": "stdout",
     "output_type": "stream",
     "text": [
      "0.9706733981735838\n"
     ]
    },
    {
     "name": "stderr",
     "output_type": "stream",
     "text": [
      "C:\\Users\\pishi\\Anaconda3\\lib\\site-packages\\sklearn\\metrics\\classification.py:1137: UndefinedMetricWarning: F-score is ill-defined and being set to 0.0 in labels with no true samples.\n",
      "  'recall', 'true', average, warn_for)\n"
     ]
    }
   ],
   "source": [
    "y_pred_RFC = clf3.predict(X_test)\n",
    "RFC_f1 = f1_score(y_pred_RFC, y_test, average = 'weighted')\n",
    "print(RFC_f1)"
   ]
  },
  {
   "cell_type": "code",
   "execution_count": 12,
   "metadata": {},
   "outputs": [
    {
     "name": "stdout",
     "output_type": "stream",
     "text": [
      "F1 score for k =  1 is: 0.7476925838896082\n",
      "F1 score for k =  2 is: 0.6109052764748174\n",
      "F1 score for k =  3 is: 0.7390166444461392\n",
      "F1 score for k =  4 is: 0.6831406904554348\n",
      "F1 score for k =  5 is: 0.7814899066313696\n",
      "F1 score for k =  6 is: 0.7277886168599548\n",
      "F1 score for k =  7 is: 0.7893297077124504\n",
      "F1 score for k =  8 is: 0.7391109843772007\n",
      "F1 score for k =  9 is: 0.7841451390065958\n",
      "F1 score for k =  10 is: 0.7382299793740456\n"
     ]
    }
   ],
   "source": [
    "from sklearn.neighbors import KNeighborsClassifier\n",
    "\n",
    "knn_f1_values = []\n",
    "k_values = []\n",
    "k = 0\n",
    "for i in range(0, 10):\n",
    "    k += 1\n",
    "    \n",
    "    neigh = KNeighborsClassifier(n_neighbors = k, metric = 'euclidean')\n",
    "    neigh.fit(X_train, y_train)\n",
    "    y_pred = neigh.predict(X_test)\n",
    "    f1 = f1_score(y_pred, y_test, average = 'weighted')\n",
    "    knn_f1_values.append(f1)\n",
    "    print('F1 score for k = ', k , 'is:', f1)"
   ]
  },
  {
   "cell_type": "code",
   "execution_count": 13,
   "metadata": {},
   "outputs": [
    {
     "name": "stdout",
     "output_type": "stream",
     "text": [
      "0.7340849529227615\n"
     ]
    }
   ],
   "source": [
    "knn_avg_f1 = np.average(knn_f1_values)\n",
    "print(knn_avg_f1)"
   ]
  },
  {
   "cell_type": "code",
   "execution_count": 15,
   "metadata": {},
   "outputs": [
    {
     "data": {
      "text/plain": [
       "Text(0,0.5,'F1 Score')"
      ]
     },
     "execution_count": 15,
     "metadata": {},
     "output_type": "execute_result"
    },
    {
     "data": {
      "image/png": "[encoded data removed]",
      "text/plain": [
       "<Figure size 432x288 with 1 Axes>"
      ]
     },
     "metadata": {},
     "output_type": "display_data"
    }
   ],
   "source": [
    "plt.plot(knn_f1_values)\n",
    "plt.title('K Nearest Neighbors Classification')\n",
    "plt.xlabel('Values for n_neighbors (-1)')\n",
    "plt.ylabel('F1 Score')"
   ]
  },
  {
   "cell_type": "code",
   "execution_count": 16,
   "metadata": {},
   "outputs": [
    {
     "data": {
      "text/plain": [
       "KNeighborsClassifier(algorithm='auto', leaf_size=30, metric='minkowski',\n",
       "           metric_params=None, n_jobs=1, n_neighbors=400, p=2,\n",
       "           weights='uniform')"
      ]
     },
     "execution_count": 16,
     "metadata": {},
     "output_type": "execute_result"
    }
   ],
   "source": [
    "neigh = KNeighborsClassifier(n_neighbors = 400)\n",
    "neigh.fit(X_train, y_train)"
   ]
  },
  {
   "cell_type": "code",
   "execution_count": 17,
   "metadata": {},
   "outputs": [
    {
     "name": "stdout",
     "output_type": "stream",
     "text": [
      "0.9703904417896547\n"
     ]
    }
   ],
   "source": [
    "y_pred = neigh.predict(X_test)\n",
    "print(f1_score(y_pred, y_test, average = 'weighted'))"
   ]
  },
  {
   "cell_type": "code",
   "execution_count": 18,
   "metadata": {},
   "outputs": [
    {
     "name": "stdout",
     "output_type": "stream",
     "text": [
      "F1 score for k =  310 is: 0.962023612904947\n",
      "F1 score for k =  320 is: 0.9646787039819773\n",
      "F1 score for k =  330 is: 0.9657149799710267\n",
      "F1 score for k =  340 is: 0.967387036871317\n",
      "F1 score for k =  350 is: 0.9690781207084176\n",
      "F1 score for k =  360 is: 0.9701994573205666\n",
      "F1 score for k =  370 is: 0.9702617043825662\n",
      "F1 score for k =  380 is: 0.9703253622923019\n",
      "F1 score for k =  390 is: 0.9703904417896547\n",
      "F1 score for k =  400 is: 0.9703904417896547\n"
     ]
    }
   ],
   "source": [
    "knn_f1_values_2 = []\n",
    "\n",
    "k = 300\n",
    "for i in range(30, 40):\n",
    "    k += 10\n",
    "    \n",
    "    neigh = KNeighborsClassifier(n_neighbors = k, metric = 'euclidean')\n",
    "    neigh.fit(X_train, y_train)\n",
    "    y_pred = neigh.predict(X_test)\n",
    "    f1 = f1_score(y_pred, y_test, average = 'weighted')\n",
    "    knn_f1_values_2.append(f1)\n",
    "    print('F1 score for k = ', k , 'is:', f1)"
   ]
  },
  {
   "cell_type": "code",
   "execution_count": 19,
   "metadata": {},
   "outputs": [
    {
     "data": {
      "text/plain": [
       "Text(0,0.5,'F1 Score')"
      ]
     },
     "execution_count": 19,
     "metadata": {},
     "output_type": "execute_result"
    },
    {
     "data": {
      "image/png": "[encoded data removed]",
      "text/plain": [
       "<Figure size 432x288 with 1 Axes>"
      ]
     },
     "metadata": {},
     "output_type": "display_data"
    }
   ],
   "source": [
    "plt.plot(knn_f1_values_2)\n",
    "plt.title('K Nearest Neighbors Classification')\n",
    "plt.xlabel('Values for n_neighbors (+310 in increments of 10)')\n",
    "plt.ylabel('F1 Score')"
   ]
  },
  {
   "cell_type": "code",
   "execution_count": 20,
   "metadata": {},
   "outputs": [
    {
     "data": {
      "text/plain": [
       "Text(0.5,1,'Comparison of Different Classification Algorithms on F1')"
      ]
     },
     "execution_count": 20,
     "metadata": {},
     "output_type": "execute_result"
    },
    {
     "data": {
      "image/png": "[encoded data removed]",
      "text/plain": [
       "<Figure size 432x288 with 1 Axes>"
      ]
     },
     "metadata": {},
     "output_type": "display_data"
    }
   ],
   "source": [
    "objects = ('Multinomial NB', 'Linear SVC', 'Random Forest', 'kNN')\n",
    "y_pos = np.arange(len(objects))\n",
    "performance = [MNB_f1, LSVC_f1, RFC_f1, knn_f1_values_2[-1]]\n",
    "\n",
    "plt.bar(y_pos, performance, align = 'center', alpha = 0.5)\n",
    "plt.xticks(y_pos, objects)\n",
    "plt.ylim(0.9, 1.0)\n",
    "plt.ylabel('F1 Score')\n",
    "plt.title('Comparison of Different Classification Algorithms on F1')"
   ]
  },
  {
   "cell_type": "code",
   "execution_count": 21,
   "metadata": {},
   "outputs": [
    {
     "name": "stdout",
     "output_type": "stream",
     "text": [
      "RSME value for k =  1 is: 0.4519624452684803\n",
      "RSME value for k =  2 is: 0.41411025736029505\n",
      "RSME value for k =  3 is: 0.39310675776182286\n",
      "RSME value for k =  4 is: 0.3674587956928306\n",
      "RSME value for k =  5 is: 0.3583478148059874\n",
      "RSME value for k =  6 is: 0.3555313112847313\n",
      "RSME value for k =  7 is: 0.35250053483557137\n",
      "RSME value for k =  8 is: 0.35157146595286237\n",
      "RSME value for k =  9 is: 0.35113855364799645\n",
      "RSME value for k =  10 is: 0.3507966368689214\n"
     ]
    }
   ],
   "source": [
    "from sklearn.neighbors import KNeighborsRegressor\n",
    "from sklearn.metrics import mean_squared_error\n",
    "from math import sqrt\n",
    "import matplotlib.pyplot as plt\n",
    "%matplotlib inline\n",
    "\n",
    "RSME_values = []\n",
    "for k in range(10):\n",
    "    k += 1\n",
    "    \n",
    "    reg = KNeighborsRegressor(n_neighbors = k)\n",
    "    reg.fit(X_train, y_train)\n",
    "    y_pred = reg.predict(X_test)\n",
    "    err = sqrt(mean_squared_error(y_pred, y_test))\n",
    "    RSME_values.append(err)\n",
    "    print('RSME value for k = ', k , 'is:', err)"
   ]
  },
  {
   "cell_type": "code",
   "execution_count": 22,
   "metadata": {},
   "outputs": [
    {
     "name": "stdout",
     "output_type": "stream",
     "text": [
      "0.3746524573479499\n"
     ]
    }
   ],
   "source": [
    "kNN_rsme = np.mean(RSME_values)\n",
    "print(kNN_rsme)"
   ]
  },
  {
   "cell_type": "code",
   "execution_count": 23,
   "metadata": {},
   "outputs": [
    {
     "data": {
      "text/plain": [
       "Text(0,0.5,'RSME Value')"
      ]
     },
     "execution_count": 23,
     "metadata": {},
     "output_type": "execute_result"
    },
    {
     "data": {
      "image/png": "[encoded data removed]",
      "text/plain": [
       "<Figure size 432x288 with 1 Axes>"
      ]
     },
     "metadata": {},
     "output_type": "display_data"
    }
   ],
   "source": [
    "plt.plot(RSME_values)\n",
    "plt.grid()\n",
    "plt.title(\"K Nearest Neighbors Analysis\")\n",
    "plt.xlabel('Values for k (-1)')\n",
    "plt.ylabel('RSME Value')"
   ]
  },
  {
   "cell_type": "code",
   "execution_count": 24,
   "metadata": {},
   "outputs": [
    {
     "data": {
      "text/plain": [
       "KNeighborsRegressor(algorithm='auto', leaf_size=30, metric='minkowski',\n",
       "          metric_params=None, n_jobs=1, n_neighbors=400, p=2,\n",
       "          weights='uniform')"
      ]
     },
     "execution_count": 24,
     "metadata": {},
     "output_type": "execute_result"
    }
   ],
   "source": [
    "reg1 = KNeighborsRegressor(n_neighbors = 400)\n",
    "reg1.fit(X_train, y_train)"
   ]
  },
  {
   "cell_type": "code",
   "execution_count": 25,
   "metadata": {},
   "outputs": [
    {
     "name": "stdout",
     "output_type": "stream",
     "text": [
      "0.29017805019515275\n"
     ]
    }
   ],
   "source": [
    "y_pred_knn_reg = reg1.predict(X_test)\n",
    "kNN_reg_rsme = sqrt(mean_squared_error(y_pred_knn_reg, y_test))\n",
    "print(kNN_reg_rsme)"
   ]
  },
  {
   "cell_type": "code",
   "execution_count": 26,
   "metadata": {},
   "outputs": [
    {
     "data": {
      "text/plain": [
       "BayesianRidge(alpha_1=1e-06, alpha_2=1e-06, compute_score=False, copy_X=True,\n",
       "       fit_intercept=True, lambda_1=1e-06, lambda_2=1e-06, n_iter=300,\n",
       "       normalize=False, tol=0.001, verbose=False)"
      ]
     },
     "execution_count": 26,
     "metadata": {},
     "output_type": "execute_result"
    }
   ],
   "source": [
    "from sklearn import linear_model\n",
    "reg2 = linear_model.BayesianRidge()\n",
    "reg2.fit(X_train.toarray(), y_train)"
   ]
  },
  {
   "cell_type": "code",
   "execution_count": 27,
   "metadata": {},
   "outputs": [
    {
     "name": "stdout",
     "output_type": "stream",
     "text": [
      "0.3507966368689214\n"
     ]
    }
   ],
   "source": [
    "y_pred_bayesian = reg2.predict(X_test)\n",
    "bayesian_rsme = sqrt(mean_squared_error(y_pred, y_test))\n",
    "print(bayesian_rsme)"
   ]
  },
  {
   "cell_type": "code",
   "execution_count": 28,
   "metadata": {},
   "outputs": [
    {
     "data": {
      "text/plain": [
       "Text(0.5,1,'Weights of Model')"
      ]
     },
     "execution_count": 28,
     "metadata": {},
     "output_type": "execute_result"
    },
    {
     "data": {
      "image/png": "[encoded data removed]",
      "text/plain": [
       "<Figure size 432x288 with 1 Axes>"
      ]
     },
     "metadata": {},
     "output_type": "display_data"
    }
   ],
   "source": [
    "plt.plot(reg2.coef_)\n",
    "plt.xlabel('Features')\n",
    "plt.ylabel('Values of Weights')\n",
    "plt.title('Weights of Model')"
   ]
  },
  {
   "cell_type": "code",
   "execution_count": 29,
   "metadata": {},
   "outputs": [
    {
     "data": {
      "text/plain": [
       "LogisticRegression(C=1.0, class_weight=None, dual=False, fit_intercept=True,\n",
       "          intercept_scaling=1, max_iter=100, multi_class='multinomial',\n",
       "          n_jobs=1, penalty='l2', random_state=42, solver='lbfgs',\n",
       "          tol=0.0001, verbose=0, warm_start=False)"
      ]
     },
     "execution_count": 29,
     "metadata": {},
     "output_type": "execute_result"
    }
   ],
   "source": [
    "from sklearn.linear_model import LogisticRegression\n",
    "clf5 = LogisticRegression(random_state = 42, solver = 'lbfgs', multi_class = 'multinomial')\n",
    "clf5.fit(X_train, y_train)"
   ]
  },
  {
   "cell_type": "code",
   "execution_count": 30,
   "metadata": {},
   "outputs": [],
   "source": [
    "import seaborn as sns\n",
    "sns.set(style = \"white\")\n",
    "sns.set(style = \"whitegrid\", color_codes = True)"
   ]
  },
  {
   "cell_type": "code",
   "execution_count": 31,
   "metadata": {},
   "outputs": [
    {
     "data": {
      "text/plain": [
       "<matplotlib.axes._subplots.AxesSubplot at 0x1e305144fd0>"
      ]
     },
     "execution_count": 31,
     "metadata": {},
     "output_type": "execute_result"
    },
    {
     "data": {
      "image/png": "[encoded data removed]",
      "text/plain": [
       "<Figure size 432x288 with 1 Axes>"
      ]
     },
     "metadata": {},
     "output_type": "display_data"
    }
   ],
   "source": [
    "sns.countplot(x = y_keras, data = df, palette = 'hls')"
   ]
  },
  {
   "cell_type": "code",
   "execution_count": 32,
   "metadata": {},
   "outputs": [
    {
     "data": {
      "text/plain": [
       "SGDRegressor(alpha=0.0001, average=False, epsilon=0.1, eta0=0.01,\n",
       "       fit_intercept=True, l1_ratio=0.15, learning_rate='invscaling',\n",
       "       loss='squared_loss', max_iter=1000, n_iter=None, penalty='l2',\n",
       "       power_t=0.25, random_state=None, shuffle=True, tol=0.001, verbose=0,\n",
       "       warm_start=False)"
      ]
     },
     "execution_count": 32,
     "metadata": {},
     "output_type": "execute_result"
    }
   ],
   "source": [
    "from sklearn import linear_model\n",
    "regB = linear_model.SGDRegressor(max_iter = 1000, tol = 1e-3)\n",
    "regB.fit(X_train, y_train)"
   ]
  },
  {
   "cell_type": "code",
   "execution_count": 33,
   "metadata": {},
   "outputs": [
    {
     "name": "stdout",
     "output_type": "stream",
     "text": [
      "0.3146769352519276\n"
     ]
    }
   ],
   "source": [
    "y_pred = regB.predict(X_test)\n",
    "SGD_rsme = sqrt(mean_squared_error(y_pred, y_test))\n",
    "print(SGD_rsme)"
   ]
  },
  {
   "cell_type": "code",
   "execution_count": 34,
   "metadata": {},
   "outputs": [
    {
     "name": "stdout",
     "output_type": "stream",
     "text": [
      "RSME value for max_iter =  1000000 is: 0.30919276905212945\n",
      "RSME value for max_iter =  2000000 is: 0.30894636639779993\n",
      "RSME value for max_iter =  3000000 is: 0.3090884658666077\n",
      "RSME value for max_iter =  4000000 is: 0.3090230075910048\n",
      "RSME value for max_iter =  5000000 is: 0.3090735013491242\n",
      "RSME value for max_iter =  6000000 is: 0.3089938529968355\n",
      "RSME value for max_iter =  7000000 is: 0.3090837187191082\n",
      "RSME value for max_iter =  8000000 is: 0.30902803505673127\n",
      "RSME value for max_iter =  9000000 is: 0.3089954925177289\n",
      "RSME value for max_iter =  10000000 is: 0.3089935642632016\n"
     ]
    }
   ],
   "source": [
    "SGD_RSME_values = []\n",
    "it = 0\n",
    "\n",
    "for k in range(10):\n",
    "    it += 1000000\n",
    "    \n",
    "    regb = linear_model.SGDRegressor(penalty = 'l1', max_iter = it, tol = 1e-3)\n",
    "    regb.fit(X_train, y_train)\n",
    "    y_pred = regb.predict(X_test)\n",
    "    err = sqrt(mean_squared_error(y_pred, y_test))\n",
    "    SGD_RSME_values.append(err)\n",
    "    print('RSME value for max_iter = ', it , 'is:', err)"
   ]
  },
  {
   "cell_type": "code",
   "execution_count": 35,
   "metadata": {},
   "outputs": [
    {
     "data": {
      "text/plain": [
       "Text(0,0.5,'RSME')"
      ]
     },
     "execution_count": 35,
     "metadata": {},
     "output_type": "execute_result"
    },
    {
     "data": {
      "image/png": "[encoded data removed]",
      "text/plain": [
       "<Figure size 432x288 with 1 Axes>"
      ]
     },
     "metadata": {},
     "output_type": "display_data"
    }
   ],
   "source": [
    "plt.plot(SGD_RSME_values)\n",
    "plt.title('Stochastic Gradient Descent (SGD) Regression')\n",
    "plt.xlabel('Iterations in Hundred Thousands')\n",
    "plt.ylabel('RSME')"
   ]
  },
  {
   "cell_type": "code",
   "execution_count": 36,
   "metadata": {},
   "outputs": [],
   "source": [
    "SGD_rsme = np.average(SGD_RSME_values)"
   ]
  },
  {
   "cell_type": "code",
   "execution_count": 37,
   "metadata": {},
   "outputs": [
    {
     "name": "stdout",
     "output_type": "stream",
     "text": [
      "0.3090418773810271\n"
     ]
    }
   ],
   "source": [
    "print(SGD_rsme)"
   ]
  },
  {
   "cell_type": "code",
   "execution_count": 38,
   "metadata": {},
   "outputs": [
    {
     "data": {
      "text/plain": [
       "Ridge(alpha=1.0, copy_X=True, fit_intercept=True, max_iter=None,\n",
       "   normalize=False, random_state=None, solver='auto', tol=0.001)"
      ]
     },
     "execution_count": 38,
     "metadata": {},
     "output_type": "execute_result"
    }
   ],
   "source": [
    "from sklearn.linear_model import Ridge\n",
    "reg3 = Ridge(alpha = 1.0)\n",
    "reg3.fit(X_train, y_train)"
   ]
  },
  {
   "cell_type": "code",
   "execution_count": 39,
   "metadata": {},
   "outputs": [
    {
     "name": "stdout",
     "output_type": "stream",
     "text": [
      "0.2143669255070416\n"
     ]
    }
   ],
   "source": [
    "y_pred = reg3.predict(X_test)\n",
    "ridge_rsme = sqrt(mean_squared_error(y_pred, y_test))\n",
    "print(ridge_rsme)"
   ]
  },
  {
   "cell_type": "code",
   "execution_count": 40,
   "metadata": {},
   "outputs": [
    {
     "data": {
      "text/plain": [
       "Text(0.5,1,'Comparison of Different Regression Algorithms on RSME')"
      ]
     },
     "execution_count": 40,
     "metadata": {},
     "output_type": "execute_result"
    },
    {
     "data": {
      "image/png": "[encoded data removed]",
      "text/plain": [
       "<Figure size 432x288 with 1 Axes>"
      ]
     },
     "metadata": {},
     "output_type": "display_data"
    }
   ],
   "source": [
    "objects = ('kNN', 'Bayesian Ridge', 'Ridge')\n",
    "y_pos = np.arange(len(objects))\n",
    "performance = [kNN_reg_rsme, bayesian_rsme, ridge_rsme]\n",
    "\n",
    "plt.bar(y_pos, performance, align = 'center', alpha = 0.5)\n",
    "plt.xticks(y_pos, objects)\n",
    "plt.ylim(0.15, 0.35)\n",
    "plt.ylabel('RSME')\n",
    "plt.title('Comparison of Different Regression Algorithms on RSME')"
   ]
  },
  {
   "cell_type": "code",
   "execution_count": null,
   "metadata": {},
   "outputs": [],
   "source": []
  }
 ],
 "metadata": {
  "kernelspec": {
   "display_name": "Python 3",
   "language": "python",
   "name": "python3"
  },
  "language_info": {
   "codemirror_mode": {
    "name": "ipython",
    "version": 3
   },
   "file_extension": ".py",
   "mimetype": "text/x-python",
   "name": "python",
   "nbconvert_exporter": "python",
   "pygments_lexer": "ipython3",
   "version": "3.6.5"
  }
 },
 "nbformat": 4,
 "nbformat_minor": 2
}
