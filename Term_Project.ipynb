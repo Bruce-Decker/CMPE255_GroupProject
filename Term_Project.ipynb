{
 "cells": [
  {
   "cell_type": "code",
   "execution_count": 72,
   "metadata": {},
   "outputs": [
    {
     "name": "stdout",
     "output_type": "stream",
     "text": [
      "[nltk_data] Downloading package punkt to\n",
      "[nltk_data]     C:\\Users\\pishi\\AppData\\Roaming\\nltk_data...\n",
      "[nltk_data]   Package punkt is already up-to-date!\n",
      "[nltk_data] Downloading package stopwords to\n",
      "[nltk_data]     C:\\Users\\pishi\\AppData\\Roaming\\nltk_data...\n",
      "[nltk_data]   Package stopwords is already up-to-date!\n"
     ]
    }
   ],
   "source": [
    "import pandas as pd\n",
    "import numpy as np\n",
    "import sklearn\n",
    "import matplotlib.pyplot as plt\n",
    "import re \n",
    "import nltk\n",
    "from nltk.corpus import stopwords\n",
    "from nltk.stem import SnowballStemmer\n",
    "nltk.download('punkt')\n",
    "nltk.download('stopwords')\n",
    "words = stopwords.words(\"english\")\n",
    "stemmer = SnowballStemmer('english')\n",
    "from sklearn.feature_extraction.text import TfidfVectorizer\n",
    "from sklearn.feature_selection import SelectKBest, chi2, SelectPercentile\n",
    "from sklearn.model_selection import train_test_split\n",
    "from sklearn.preprocessing import Imputer"
   ]
  },
  {
   "cell_type": "code",
   "execution_count": 73,
   "metadata": {},
   "outputs": [
    {
     "name": "stderr",
     "output_type": "stream",
     "text": [
      "C:\\Users\\pishi\\Anaconda3\\lib\\site-packages\\IPython\\core\\interactiveshell.py:2785: DtypeWarning: Columns (14) have mixed types. Specify dtype option on import or set low_memory=False.\n",
      "  interactivity=interactivity, compiler=compiler, result=result)\n"
     ]
    }
   ],
   "source": [
    "stopwords_set = set(stopwords.words(\"english\"))\n",
    "df = pd.read_csv('1429_1.csv', keep_default_na=False, skip_blank_lines=False)\n",
    "df = df.replace(np.nan, '', regex=True)"
   ]
  },
  {
   "cell_type": "code",
   "execution_count": 74,
   "metadata": {},
   "outputs": [],
   "source": [
    "df['newComments'] = df[['reviews.text', 'reviews.title']].apply(lambda x: ' '.join(x), axis=1)\n",
    "df['newComments'] = df['reviews.text'].apply(lambda x: \" \".join([stemmer.stem(i) for i in re.sub(\"[^a-zA-Z]\", \" \", x).split() if i not in stopwords_set]).lower())\n",
    "TVec = TfidfVectorizer(sublinear_tf=True, min_df=6, stop_words='english')\n",
    "ch2 = SelectPercentile(chi2, percentile=9.5)\n",
    "X_text_processing = TVec.fit_transform(df['newComments'])\n",
    "\n",
    "#df['reviews.rating'].astype(str).astype(int).astype(float)\n",
    "#df['reviews.rating'].convert_objects(convert_numeric=True)\n",
    "df['reviews.rating'] = pd.to_numeric(df['reviews.rating'],errors='coerce')\n",
    "\n",
    "imp = Imputer(missing_values='NaN', strategy='mean', axis=0)\n",
    "imp.fit(df[['reviews.rating']])\n",
    "df['reviews.rating']=imp.transform(df[['reviews.rating']]).ravel()\n",
    "'''\n",
    "imputed_DF = pd.DataFrame(imp.fit_transform(df.loc[:, 14]))\n",
    "imputed_DF.columns = df.columns\n",
    "imputed_DF.index = df.index\n",
    "'''\n",
    "y_text_processing = df['reviews.rating'].astype(np.int64)"
   ]
  },
  {
   "cell_type": "code",
   "execution_count": 75,
   "metadata": {},
   "outputs": [
    {
     "data": {
      "text/plain": [
       "0        this product far disappoint my children love u...\n",
       "1           great beginn experienc person bought gift love\n",
       "2        inexpens tablet use learn step nabi he thrill ...\n",
       "3        i fire hd two week i love this tablet great va...\n",
       "4        i bought grand daughter come visit i set user ...\n",
       "5        this amazon fire inch tablet perfect size i pu...\n",
       "6        great e read go nice light weight price point ...\n",
       "7        i gave christma gift inlaw husband uncl they l...\n",
       "8        great devic read book i like link borrow libra...\n",
       "9                            i love order book read reader\n",
       "10                         not easi elder user ceas ad pop\n",
       "11       excel product easi use larg screen make watch ...\n",
       "12       want father first tablet good valu he watch mo...\n",
       "13       simpli everyth i need thank youand silk work w...\n",
       "14                            got present love size screen\n",
       "15       the kindl easiest use graphic screen crisp cle...\n",
       "16       nice reader almost perfect want need good bargain\n",
       "17       i realli like tablet i would given star someti...\n",
       "18        great video qualiti lot fun app fun whole famili\n",
       "19       love love love kindl fire yr old granddaught s...\n",
       "20       excel tablet nice screen i wish amazon would p...\n",
       "21       preload read app kindl expand app perfect trav...\n",
       "22       veri happi product easi use pictur clear take ...\n",
       "23       my grandchildren home school util tabl mani le...\n",
       "24       great size easi carri travel need spend time l...\n",
       "25       i purchas last tablet die it meet basic need p...\n",
       "26       perfect download read book perfect size nice b...\n",
       "27       i surpris i learn capabl devic now husband acc...\n",
       "28                         i got son it user friend durabl\n",
       "29       the visual qualiti fire hd amaz it run fast ea...\n",
       "                               ...                        \n",
       "34630    my new kindl dx graphit came yesterday immedi ...\n",
       "34631    this cover made kindl dx fit beauti the proble...\n",
       "34632    i sever cover simpl rubber cover expand packag...\n",
       "34633    the reason peopl give star give product enough...\n",
       "34634    this cover must kindl read devic i purchas dif...\n",
       "34635    i cover black cover inde fold back not sure re...\n",
       "34636    i found cover quit handsom appear everyon see ...\n",
       "34637    i well kindl lover notic although taken great ...\n",
       "34638    this cover replac initi cover broke kindl fram...\n",
       "34639    have recent receiv kindl fire hd gift i knew h...\n",
       "34640    surpass expect charg faster one come kindl fir...\n",
       "34641    amazon alreadi includ cabl kindl fire kindl fi...\n",
       "34642    i bought play kindl long period time play char...\n",
       "34643    this cord work great i also love longer origin...\n",
       "34644    correct problem kindl charg hope i need kindl ...\n",
       "34645    work well kindl model either comput cord charg...\n",
       "34646    i use one time download e book it work exact s...\n",
       "34647    excel charg qualiti heavi duti cord doe work k...\n",
       "34648    this charger w rapid charger describ it work w...\n",
       "34649                                  expect i want thank\n",
       "34650    although descript state work kindl fire hdx i ...\n",
       "34651                                         connect snug\n",
       "34652    so i alreadi pleas amazon choic includ essenti...\n",
       "34653    as charger work noth special with mk kindl fir...\n",
       "34654    this exact like usb power charger make unneces...\n",
       "34655    this appreci faster higher amp charger use kin...\n",
       "34656    amazon includ charger kindl the fact charg us ...\n",
       "34657    love kindl fire i realli disappoint kindl powe...\n",
       "34658    i surpris find come type charg cord i purchas ...\n",
       "34659    spite fact noth good thing say amazon anth eve...\n",
       "Name: newComments, Length: 34660, dtype: object"
      ]
     },
     "execution_count": 75,
     "metadata": {},
     "output_type": "execute_result"
    }
   ],
   "source": [
    "df['newComments']"
   ]
  },
  {
   "cell_type": "code",
   "execution_count": 76,
   "metadata": {},
   "outputs": [],
   "source": [
    "from sklearn.feature_extraction.text import CountVectorizer\n",
    "from sklearn.preprocessing import LabelEncoder, OneHotEncoder\n",
    "from numpy import array\n",
    "vect = CountVectorizer(binary=True, stop_words=stopwords.words('english'), lowercase=True, min_df=6,  max_features=5000)\n",
    "label_encoder_y = LabelEncoder()\n",
    "y_recommended = df['reviews.doRecommend']\n",
    "\n",
    "\n",
    "#df['reviews.doRecommend'].eq('TRUE').mul(1)\n",
    "df['reviews.doRecommend'] = df['reviews.doRecommend'].apply(lambda x: 1 if x == \"TRUE\" else x)\n",
    "df['reviews.doRecommend'] = df['reviews.doRecommend'].apply(lambda x: 0 if x == \"FALSE\" else x)\n",
    "df['reviews.doRecommend'] = df['reviews.doRecommend'].replace(np.nan, '', regex=True)\n",
    "df['reviews.doRecommend'] = df['reviews.doRecommend'].apply(lambda x: 0 if x == '' else x)\n",
    "\n",
    "#print(onehot_encoded)\n",
    "y_keras = df['reviews.doRecommend']\n",
    "\n",
    "\n",
    "X_train, X_test, y_train, y_test = train_test_split(df['newComments'], y_keras, test_size=0.2)\n",
    "X_train = vect.fit_transform(X_train_kera)\n",
    "X_test = vect.transform(X_test_kera)"
   ]
  },
  {
   "cell_type": "code",
   "execution_count": 77,
   "metadata": {},
   "outputs": [
    {
     "data": {
      "text/plain": [
       "KNeighborsRegressor(algorithm='auto', leaf_size=30, metric='minkowski',\n",
       "          metric_params=None, n_jobs=1, n_neighbors=2, p=2,\n",
       "          weights='uniform')"
      ]
     },
     "execution_count": 77,
     "metadata": {},
     "output_type": "execute_result"
    }
   ],
   "source": [
    "from sklearn.neighbors import KNeighborsRegressor\n",
    "neigh = KNeighborsRegressor(n_neighbors = 2)\n",
    "neigh.fit(X_train, y_train)"
   ]
  },
  {
   "cell_type": "code",
   "execution_count": 78,
   "metadata": {},
   "outputs": [
    {
     "name": "stdout",
     "output_type": "stream",
     "text": [
      "[1.  0.5 1.  ... 1.  1.  1. ]\n"
     ]
    }
   ],
   "source": [
    "print(neigh.predict(X_test))"
   ]
  },
  {
   "cell_type": "code",
   "execution_count": 123,
   "metadata": {},
   "outputs": [
    {
     "name": "stdout",
     "output_type": "stream",
     "text": [
      "RSME value for k =  1 is: 0.3300229931313631\n",
      "RSME value for k =  2 is: 0.28135717166908136\n",
      "RSME value for k =  3 is: 0.26620102642882015\n",
      "RSME value for k =  4 is: 0.2636903533001217\n",
      "RSME value for k =  5 is: 0.25685073946913134\n",
      "RSME value for k =  6 is: 0.252138700862551\n",
      "RSME value for k =  7 is: 0.24969215710988038\n",
      "RSME value for k =  8 is: 0.24776754964181785\n",
      "RSME value for k =  9 is: 0.24679057367899743\n",
      "RSME value for k =  10 is: 0.24531972143343414\n"
     ]
    }
   ],
   "source": [
    "from sklearn.metrics import mean_squared_error\n",
    "from math import sqrt\n",
    "import matplotlib.pyplot as plt\n",
    "%matplotlib inline\n",
    "\n",
    "RSME_values = []\n",
    "for k in range(10):\n",
    "    k += 1\n",
    "    \n",
    "    neigh = KNeighborsRegressor(n_neighbors = k)\n",
    "    neigh.fit(X_train, y_train)\n",
    "    y_pred = neigh.predict(X_test)\n",
    "    err = sqrt(mean_squared_error(y_pred, y_test))\n",
    "    RSME_values.append(err)\n",
    "    print('RSME value for k = ', k , 'is:', err)"
   ]
  },
  {
   "cell_type": "code",
   "execution_count": 124,
   "metadata": {},
   "outputs": [
    {
     "name": "stdout",
     "output_type": "stream",
     "text": [
      "0.26398309867251984\n"
     ]
    }
   ],
   "source": [
    "kNN_rsme = np.mean(RSME_values)\n",
    "print(kNN_rsme)"
   ]
  },
  {
   "cell_type": "code",
   "execution_count": 125,
   "metadata": {},
   "outputs": [
    {
     "data": {
      "text/plain": [
       "Text(0,0.5,'RSME Value')"
      ]
     },
     "execution_count": 125,
     "metadata": {},
     "output_type": "execute_result"
    },
    {
     "data": {
      "image/png": "[encoded data removed]",
      "text/plain": [
       "<Figure size 432x288 with 1 Axes>"
      ]
     },
     "metadata": {},
     "output_type": "display_data"
    }
   ],
   "source": [
    "plt.plot(RSME_values)\n",
    "plt.title(\"K Nearest Neighbors Analysis\")\n",
    "plt.xlabel('Values for k')\n",
    "plt.ylabel('RSME Value')"
   ]
  },
  {
   "cell_type": "code",
   "execution_count": 126,
   "metadata": {},
   "outputs": [
    {
     "data": {
      "text/plain": [
       "BayesianRidge(alpha_1=1e-06, alpha_2=1e-06, compute_score=False, copy_X=True,\n",
       "       fit_intercept=True, lambda_1=1e-06, lambda_2=1e-06, n_iter=300,\n",
       "       normalize=False, tol=0.001, verbose=False)"
      ]
     },
     "execution_count": 126,
     "metadata": {},
     "output_type": "execute_result"
    }
   ],
   "source": [
    "from sklearn import linear_model\n",
    "reg = linear_model.BayesianRidge()\n",
    "reg.fit(X_train.toarray(), y_train)"
   ]
  },
  {
   "cell_type": "code",
   "execution_count": 127,
   "metadata": {},
   "outputs": [],
   "source": [
    "y_pred = reg.predict(X_test)"
   ]
  },
  {
   "cell_type": "code",
   "execution_count": 128,
   "metadata": {},
   "outputs": [
    {
     "data": {
      "text/plain": [
       "array([ 4.94102023e-05,  2.30717323e-04, -9.98538573e-05, ...,\n",
       "        6.98324393e-06,  2.03901031e-05, -3.06398830e-05])"
      ]
     },
     "execution_count": 128,
     "metadata": {},
     "output_type": "execute_result"
    }
   ],
   "source": [
    "reg.coef_"
   ]
  },
  {
   "cell_type": "code",
   "execution_count": 129,
   "metadata": {},
   "outputs": [
    {
     "data": {
      "text/plain": [
       "Text(0.5,1,'Weights of Model')"
      ]
     },
     "execution_count": 129,
     "metadata": {},
     "output_type": "execute_result"
    },
    {
     "data": {
      "image/png": "[encoded data removed]",
      "text/plain": [
       "<Figure size 432x288 with 1 Axes>"
      ]
     },
     "metadata": {},
     "output_type": "display_data"
    }
   ],
   "source": [
    "plt.plot(reg.coef_)\n",
    "plt.xlabel('Features')\n",
    "plt.ylabel('Values of Weights')\n",
    "plt.title('Weights of Model')"
   ]
  },
  {
   "cell_type": "code",
   "execution_count": 132,
   "metadata": {},
   "outputs": [
    {
     "name": "stdout",
     "output_type": "stream",
     "text": [
      "0.23591742926881212\n"
     ]
    }
   ],
   "source": [
    "bayesian_rsme = sqrt(mean_squared_error(y_pred, y_test))\n",
    "print(bayesian_rsme)"
   ]
  },
  {
   "cell_type": "code",
   "execution_count": 133,
   "metadata": {},
   "outputs": [],
   "source": [
    "### classification\n",
    "\n",
    "from sklearn.linear_model import LogisticRegression\n",
    "clf = LogisticRegression(random_state = 0, solver = 'lbfgs', multi_class = 'multinomial').fit(X_train, y_train)"
   ]
  },
  {
   "cell_type": "code",
   "execution_count": 134,
   "metadata": {},
   "outputs": [
    {
     "data": {
      "text/plain": [
       "array([1, 1, 1, ..., 1, 1, 1], dtype=int64)"
      ]
     },
     "execution_count": 134,
     "metadata": {},
     "output_type": "execute_result"
    }
   ],
   "source": [
    "clf.predict(X_test)"
   ]
  },
  {
   "cell_type": "code",
   "execution_count": 135,
   "metadata": {},
   "outputs": [],
   "source": [
    "import seaborn as sns\n",
    "sns.set(style = \"white\")\n",
    "sns.set(style = \"whitegrid\", color_codes = True)"
   ]
  },
  {
   "cell_type": "code",
   "execution_count": 136,
   "metadata": {},
   "outputs": [
    {
     "data": {
      "text/plain": [
       "<matplotlib.axes._subplots.AxesSubplot at 0x1e9878b6e48>"
      ]
     },
     "execution_count": 136,
     "metadata": {},
     "output_type": "execute_result"
    },
    {
     "data": {
      "image/png": "[encoded data removed]",
      "text/plain": [
       "<Figure size 432x288 with 1 Axes>"
      ]
     },
     "metadata": {},
     "output_type": "display_data"
    }
   ],
   "source": [
    "sns.countplot(x = y_keras, data = df, palette = 'hls')"
   ]
  },
  {
   "cell_type": "code",
   "execution_count": 137,
   "metadata": {},
   "outputs": [
    {
     "data": {
      "text/plain": [
       "SGDRegressor(alpha=0.0001, average=False, epsilon=0.1, eta0=0.01,\n",
       "       fit_intercept=True, l1_ratio=0.15, learning_rate='invscaling',\n",
       "       loss='squared_loss', max_iter=1000, n_iter=None, penalty='l2',\n",
       "       power_t=0.25, random_state=None, shuffle=True, tol=0.001, verbose=0,\n",
       "       warm_start=False)"
      ]
     },
     "execution_count": 137,
     "metadata": {},
     "output_type": "execute_result"
    }
   ],
   "source": [
    "from sklearn import linear_model\n",
    "clf = linear_model.SGDRegressor(max_iter = 1000, tol = 1e-3)\n",
    "clf.fit(X_train, y_train)"
   ]
  },
  {
   "cell_type": "code",
   "execution_count": 138,
   "metadata": {},
   "outputs": [
    {
     "data": {
      "text/plain": [
       "array([0.63975135, 0.79263299, 1.04428971, ..., 0.74889565, 0.65443352,\n",
       "       0.91825959])"
      ]
     },
     "execution_count": 138,
     "metadata": {},
     "output_type": "execute_result"
    }
   ],
   "source": [
    "clf.predict(X_test)"
   ]
  },
  {
   "cell_type": "code",
   "execution_count": 141,
   "metadata": {},
   "outputs": [
    {
     "name": "stdout",
     "output_type": "stream",
     "text": [
      "0.3362097980084293\n"
     ]
    }
   ],
   "source": [
    "y_pred = clf.predict(X_test)\n",
    "err = sqrt(mean_squared_error(y_pred, y_test))\n",
    "print(err)"
   ]
  },
  {
   "cell_type": "code",
   "execution_count": 146,
   "metadata": {},
   "outputs": [
    {
     "name": "stdout",
     "output_type": "stream",
     "text": [
      "RSME value for max_iter =  1000000 is: 0.33621478816338474\n",
      "RSME value for max_iter =  2000000 is: 0.3363869797033507\n",
      "RSME value for max_iter =  3000000 is: 0.3360860880869497\n",
      "RSME value for max_iter =  4000000 is: 0.33606436913618726\n",
      "RSME value for max_iter =  5000000 is: 0.33613114872816097\n",
      "RSME value for max_iter =  6000000 is: 0.3362943115271109\n",
      "RSME value for max_iter =  7000000 is: 0.33615793359956103\n",
      "RSME value for max_iter =  8000000 is: 0.33604231919336564\n",
      "RSME value for max_iter =  9000000 is: 0.336147936296251\n",
      "RSME value for max_iter =  10000000 is: 0.33623322253402593\n"
     ]
    }
   ],
   "source": [
    "SGD_RSME_values = []\n",
    "it = 0\n",
    "\n",
    "for k in range(10):\n",
    "    it += 1000000\n",
    "    \n",
    "    clf = linear_model.SGDRegressor(max_iter = it, tol = 1e-3)\n",
    "    clf.fit(X_train, y_train)\n",
    "    y_pred = clf.predict(X_test)\n",
    "    err = sqrt(mean_squared_error(y_pred, y_test))\n",
    "    SGD_RSME_values.append(err)\n",
    "    print('RSME value for max_iter = ', it , 'is:', err)"
   ]
  },
  {
   "cell_type": "code",
   "execution_count": 147,
   "metadata": {},
   "outputs": [
    {
     "data": {
      "text/plain": [
       "[<matplotlib.lines.Line2D at 0x1e985ed9c50>]"
      ]
     },
     "execution_count": 147,
     "metadata": {},
     "output_type": "execute_result"
    },
    {
     "data": {
      "image/png": "[encoded data removed]",
      "text/plain": [
       "<Figure size 432x288 with 1 Axes>"
      ]
     },
     "metadata": {},
     "output_type": "display_data"
    }
   ],
   "source": [
    "plt.plot(SGD_RSME_values)"
   ]
  },
  {
   "cell_type": "code",
   "execution_count": 148,
   "metadata": {},
   "outputs": [],
   "source": [
    "SGD_rsme = np.average(SGD_RSME_values)"
   ]
  },
  {
   "cell_type": "code",
   "execution_count": 149,
   "metadata": {},
   "outputs": [
    {
     "name": "stdout",
     "output_type": "stream",
     "text": [
      "0.33617590969683475\n"
     ]
    }
   ],
   "source": [
    "print(SGD_rsme)"
   ]
  },
  {
   "cell_type": "code",
   "execution_count": 156,
   "metadata": {},
   "outputs": [
    {
     "data": {
      "text/plain": [
       "Text(0.5,1,'Comparison of Different Regression Algorithms on RSME')"
      ]
     },
     "execution_count": 156,
     "metadata": {},
     "output_type": "execute_result"
    },
    {
     "data": {
      "image/png": "[encoded data removed]",
      "text/plain": [
       "<Figure size 432x288 with 1 Axes>"
      ]
     },
     "metadata": {},
     "output_type": "display_data"
    }
   ],
   "source": [
    "objects = ('kNN Regression', 'Bayesian Ridge Regression', 'SGD Regression')\n",
    "y_pos = np.arange(len(objects))\n",
    "performance = [kNN_rsme, bayesian_rsme, SGD_rsme]\n",
    "\n",
    "plt.bar(y_pos, performance, align = 'center', alpha = 0.5)\n",
    "plt.xticks(y_pos, objects)\n",
    "plt.ylabel('RSME')\n",
    "plt.title('Comparison of Different Regression Algorithms on RSME')"
   ]
  },
  {
   "cell_type": "code",
   "execution_count": null,
   "metadata": {},
   "outputs": [],
   "source": []
  }
 ],
 "metadata": {
  "kernelspec": {
   "display_name": "Python 3",
   "language": "python",
   "name": "python3"
  },
  "language_info": {
   "codemirror_mode": {
    "name": "ipython",
    "version": 3
   },
   "file_extension": ".py",
   "mimetype": "text/x-python",
   "name": "python",
   "nbconvert_exporter": "python",
   "pygments_lexer": "ipython3",
   "version": "3.6.5"
  }
 },
 "nbformat": 4,
 "nbformat_minor": 2
}
